{
 "cells": [
  {
   "cell_type": "code",
   "execution_count": 1,
   "metadata": {},
   "outputs": [],
   "source": [
    "# Basics\n",
    "import pandas as pd\n",
    "import numpy as np\n",
    "import time as tm\n",
    "import math\n",
    "# For Exploratory Data Analysis (EDA)\n",
    "import seaborn as sns; sns.set()\n",
    "import matplotlib.pyplot as plt\n",
    "%matplotlib inline"
   ]
  },
  {
   "cell_type": "code",
   "execution_count": 2,
   "metadata": {},
   "outputs": [],
   "source": [
    "header = [\"date\",\"time\",\"flow\",\"anomaly\"]\n",
    "df = pd.read_csv('Barreiro2018.csv', sep=';', names=header)\n",
    "#holidays = pd.read_csv('holidays2018.csv',sep=';')\n",
    "#df"
   ]
  },
  {
   "cell_type": "code",
   "execution_count": 3,
   "metadata": {},
   "outputs": [
    {
     "data": {
      "text/html": [
       "<div>\n",
       "<style scoped>\n",
       "    .dataframe tbody tr th:only-of-type {\n",
       "        vertical-align: middle;\n",
       "    }\n",
       "\n",
       "    .dataframe tbody tr th {\n",
       "        vertical-align: top;\n",
       "    }\n",
       "\n",
       "    .dataframe thead th {\n",
       "        text-align: right;\n",
       "    }\n",
       "</style>\n",
       "<table border=\"1\" class=\"dataframe\">\n",
       "  <thead>\n",
       "    <tr style=\"text-align: right;\">\n",
       "      <th></th>\n",
       "      <th>date</th>\n",
       "      <th>time</th>\n",
       "      <th>flow</th>\n",
       "      <th>anomaly</th>\n",
       "    </tr>\n",
       "  </thead>\n",
       "  <tbody>\n",
       "    <tr>\n",
       "      <th>0</th>\n",
       "      <td>01/01/2018</td>\n",
       "      <td>00:07:30</td>\n",
       "      <td>18.333067</td>\n",
       "      <td>0</td>\n",
       "    </tr>\n",
       "    <tr>\n",
       "      <th>1</th>\n",
       "      <td>01/01/2018</td>\n",
       "      <td>00:22:30</td>\n",
       "      <td>18.333067</td>\n",
       "      <td>0</td>\n",
       "    </tr>\n",
       "    <tr>\n",
       "      <th>2</th>\n",
       "      <td>01/01/2018</td>\n",
       "      <td>00:37:30</td>\n",
       "      <td>19.784872</td>\n",
       "      <td>0</td>\n",
       "    </tr>\n",
       "    <tr>\n",
       "      <th>3</th>\n",
       "      <td>01/01/2018</td>\n",
       "      <td>00:52:30</td>\n",
       "      <td>22.294744</td>\n",
       "      <td>0</td>\n",
       "    </tr>\n",
       "    <tr>\n",
       "      <th>4</th>\n",
       "      <td>01/01/2018</td>\n",
       "      <td>01:07:30</td>\n",
       "      <td>27.229756</td>\n",
       "      <td>0</td>\n",
       "    </tr>\n",
       "    <tr>\n",
       "      <th>...</th>\n",
       "      <td>...</td>\n",
       "      <td>...</td>\n",
       "      <td>...</td>\n",
       "      <td>...</td>\n",
       "    </tr>\n",
       "    <tr>\n",
       "      <th>35035</th>\n",
       "      <td>31/12/2018</td>\n",
       "      <td>22:52:30</td>\n",
       "      <td>24.792000</td>\n",
       "      <td>0</td>\n",
       "    </tr>\n",
       "    <tr>\n",
       "      <th>35036</th>\n",
       "      <td>31/12/2018</td>\n",
       "      <td>23:07:30</td>\n",
       "      <td>23.029933</td>\n",
       "      <td>0</td>\n",
       "    </tr>\n",
       "    <tr>\n",
       "      <th>35037</th>\n",
       "      <td>31/12/2018</td>\n",
       "      <td>23:22:30</td>\n",
       "      <td>20.415628</td>\n",
       "      <td>0</td>\n",
       "    </tr>\n",
       "    <tr>\n",
       "      <th>35038</th>\n",
       "      <td>31/12/2018</td>\n",
       "      <td>23:37:30</td>\n",
       "      <td>22.019056</td>\n",
       "      <td>0</td>\n",
       "    </tr>\n",
       "    <tr>\n",
       "      <th>35039</th>\n",
       "      <td>31/12/2018</td>\n",
       "      <td>23:52:30</td>\n",
       "      <td>20.792000</td>\n",
       "      <td>0</td>\n",
       "    </tr>\n",
       "  </tbody>\n",
       "</table>\n",
       "<p>35040 rows × 4 columns</p>\n",
       "</div>"
      ],
      "text/plain": [
       "             date      time       flow  anomaly\n",
       "0      01/01/2018  00:07:30  18.333067        0\n",
       "1      01/01/2018  00:22:30  18.333067        0\n",
       "2      01/01/2018  00:37:30  19.784872        0\n",
       "3      01/01/2018  00:52:30  22.294744        0\n",
       "4      01/01/2018  01:07:30  27.229756        0\n",
       "...           ...       ...        ...      ...\n",
       "35035  31/12/2018  22:52:30  24.792000        0\n",
       "35036  31/12/2018  23:07:30  23.029933        0\n",
       "35037  31/12/2018  23:22:30  20.415628        0\n",
       "35038  31/12/2018  23:37:30  22.019056        0\n",
       "35039  31/12/2018  23:52:30  20.792000        0\n",
       "\n",
       "[35040 rows x 4 columns]"
      ]
     },
     "execution_count": 3,
     "metadata": {},
     "output_type": "execute_result"
    }
   ],
   "source": [
    "df"
   ]
  },
  {
   "cell_type": "code",
   "execution_count": 4,
   "metadata": {},
   "outputs": [
    {
     "data": {
      "text/html": [
       "<div>\n",
       "<style scoped>\n",
       "    .dataframe tbody tr th:only-of-type {\n",
       "        vertical-align: middle;\n",
       "    }\n",
       "\n",
       "    .dataframe tbody tr th {\n",
       "        vertical-align: top;\n",
       "    }\n",
       "\n",
       "    .dataframe thead th {\n",
       "        text-align: right;\n",
       "    }\n",
       "</style>\n",
       "<table border=\"1\" class=\"dataframe\">\n",
       "  <thead>\n",
       "    <tr style=\"text-align: right;\">\n",
       "      <th></th>\n",
       "      <th>date</th>\n",
       "      <th>time</th>\n",
       "      <th>flow</th>\n",
       "      <th>anomaly</th>\n",
       "      <th>datetime</th>\n",
       "    </tr>\n",
       "  </thead>\n",
       "  <tbody>\n",
       "    <tr>\n",
       "      <th>0</th>\n",
       "      <td>01/01/2018</td>\n",
       "      <td>00:07:30</td>\n",
       "      <td>18.333067</td>\n",
       "      <td>0</td>\n",
       "      <td>01/01/2018 00:07:30</td>\n",
       "    </tr>\n",
       "    <tr>\n",
       "      <th>1</th>\n",
       "      <td>01/01/2018</td>\n",
       "      <td>00:22:30</td>\n",
       "      <td>18.333067</td>\n",
       "      <td>0</td>\n",
       "      <td>01/01/2018 00:22:30</td>\n",
       "    </tr>\n",
       "    <tr>\n",
       "      <th>2</th>\n",
       "      <td>01/01/2018</td>\n",
       "      <td>00:37:30</td>\n",
       "      <td>19.784872</td>\n",
       "      <td>0</td>\n",
       "      <td>01/01/2018 00:37:30</td>\n",
       "    </tr>\n",
       "    <tr>\n",
       "      <th>3</th>\n",
       "      <td>01/01/2018</td>\n",
       "      <td>00:52:30</td>\n",
       "      <td>22.294744</td>\n",
       "      <td>0</td>\n",
       "      <td>01/01/2018 00:52:30</td>\n",
       "    </tr>\n",
       "    <tr>\n",
       "      <th>4</th>\n",
       "      <td>01/01/2018</td>\n",
       "      <td>01:07:30</td>\n",
       "      <td>27.229756</td>\n",
       "      <td>0</td>\n",
       "      <td>01/01/2018 01:07:30</td>\n",
       "    </tr>\n",
       "    <tr>\n",
       "      <th>...</th>\n",
       "      <td>...</td>\n",
       "      <td>...</td>\n",
       "      <td>...</td>\n",
       "      <td>...</td>\n",
       "      <td>...</td>\n",
       "    </tr>\n",
       "    <tr>\n",
       "      <th>35035</th>\n",
       "      <td>31/12/2018</td>\n",
       "      <td>22:52:30</td>\n",
       "      <td>24.792000</td>\n",
       "      <td>0</td>\n",
       "      <td>31/12/2018 22:52:30</td>\n",
       "    </tr>\n",
       "    <tr>\n",
       "      <th>35036</th>\n",
       "      <td>31/12/2018</td>\n",
       "      <td>23:07:30</td>\n",
       "      <td>23.029933</td>\n",
       "      <td>0</td>\n",
       "      <td>31/12/2018 23:07:30</td>\n",
       "    </tr>\n",
       "    <tr>\n",
       "      <th>35037</th>\n",
       "      <td>31/12/2018</td>\n",
       "      <td>23:22:30</td>\n",
       "      <td>20.415628</td>\n",
       "      <td>0</td>\n",
       "      <td>31/12/2018 23:22:30</td>\n",
       "    </tr>\n",
       "    <tr>\n",
       "      <th>35038</th>\n",
       "      <td>31/12/2018</td>\n",
       "      <td>23:37:30</td>\n",
       "      <td>22.019056</td>\n",
       "      <td>0</td>\n",
       "      <td>31/12/2018 23:37:30</td>\n",
       "    </tr>\n",
       "    <tr>\n",
       "      <th>35039</th>\n",
       "      <td>31/12/2018</td>\n",
       "      <td>23:52:30</td>\n",
       "      <td>20.792000</td>\n",
       "      <td>0</td>\n",
       "      <td>31/12/2018 23:52:30</td>\n",
       "    </tr>\n",
       "  </tbody>\n",
       "</table>\n",
       "<p>35040 rows × 5 columns</p>\n",
       "</div>"
      ],
      "text/plain": [
       "             date      time       flow  anomaly             datetime\n",
       "0      01/01/2018  00:07:30  18.333067        0  01/01/2018 00:07:30\n",
       "1      01/01/2018  00:22:30  18.333067        0  01/01/2018 00:22:30\n",
       "2      01/01/2018  00:37:30  19.784872        0  01/01/2018 00:37:30\n",
       "3      01/01/2018  00:52:30  22.294744        0  01/01/2018 00:52:30\n",
       "4      01/01/2018  01:07:30  27.229756        0  01/01/2018 01:07:30\n",
       "...           ...       ...        ...      ...                  ...\n",
       "35035  31/12/2018  22:52:30  24.792000        0  31/12/2018 22:52:30\n",
       "35036  31/12/2018  23:07:30  23.029933        0  31/12/2018 23:07:30\n",
       "35037  31/12/2018  23:22:30  20.415628        0  31/12/2018 23:22:30\n",
       "35038  31/12/2018  23:37:30  22.019056        0  31/12/2018 23:37:30\n",
       "35039  31/12/2018  23:52:30  20.792000        0  31/12/2018 23:52:30\n",
       "\n",
       "[35040 rows x 5 columns]"
      ]
     },
     "execution_count": 4,
     "metadata": {},
     "output_type": "execute_result"
    }
   ],
   "source": [
    "# Join columns date and time\n",
    "df['datetime'] = df['date'] + ' ' + df['time']\n",
    "df"
   ]
  },
  {
   "cell_type": "code",
   "execution_count": 5,
   "metadata": {},
   "outputs": [
    {
     "data": {
      "text/html": [
       "<div>\n",
       "<style scoped>\n",
       "    .dataframe tbody tr th:only-of-type {\n",
       "        vertical-align: middle;\n",
       "    }\n",
       "\n",
       "    .dataframe tbody tr th {\n",
       "        vertical-align: top;\n",
       "    }\n",
       "\n",
       "    .dataframe thead th {\n",
       "        text-align: right;\n",
       "    }\n",
       "</style>\n",
       "<table border=\"1\" class=\"dataframe\">\n",
       "  <thead>\n",
       "    <tr style=\"text-align: right;\">\n",
       "      <th></th>\n",
       "      <th>date</th>\n",
       "      <th>time</th>\n",
       "      <th>flow</th>\n",
       "      <th>anomaly</th>\n",
       "      <th>datetime</th>\n",
       "    </tr>\n",
       "  </thead>\n",
       "  <tbody>\n",
       "    <tr>\n",
       "      <th>0</th>\n",
       "      <td>01/01/2018</td>\n",
       "      <td>00:07:30</td>\n",
       "      <td>18.333067</td>\n",
       "      <td>0</td>\n",
       "      <td>2018-01-01 00:07:30</td>\n",
       "    </tr>\n",
       "    <tr>\n",
       "      <th>1</th>\n",
       "      <td>01/01/2018</td>\n",
       "      <td>00:22:30</td>\n",
       "      <td>18.333067</td>\n",
       "      <td>0</td>\n",
       "      <td>2018-01-01 00:22:30</td>\n",
       "    </tr>\n",
       "    <tr>\n",
       "      <th>2</th>\n",
       "      <td>01/01/2018</td>\n",
       "      <td>00:37:30</td>\n",
       "      <td>19.784872</td>\n",
       "      <td>0</td>\n",
       "      <td>2018-01-01 00:37:30</td>\n",
       "    </tr>\n",
       "    <tr>\n",
       "      <th>3</th>\n",
       "      <td>01/01/2018</td>\n",
       "      <td>00:52:30</td>\n",
       "      <td>22.294744</td>\n",
       "      <td>0</td>\n",
       "      <td>2018-01-01 00:52:30</td>\n",
       "    </tr>\n",
       "    <tr>\n",
       "      <th>4</th>\n",
       "      <td>01/01/2018</td>\n",
       "      <td>01:07:30</td>\n",
       "      <td>27.229756</td>\n",
       "      <td>0</td>\n",
       "      <td>2018-01-01 01:07:30</td>\n",
       "    </tr>\n",
       "    <tr>\n",
       "      <th>...</th>\n",
       "      <td>...</td>\n",
       "      <td>...</td>\n",
       "      <td>...</td>\n",
       "      <td>...</td>\n",
       "      <td>...</td>\n",
       "    </tr>\n",
       "    <tr>\n",
       "      <th>35035</th>\n",
       "      <td>31/12/2018</td>\n",
       "      <td>22:52:30</td>\n",
       "      <td>24.792000</td>\n",
       "      <td>0</td>\n",
       "      <td>2018-12-31 22:52:30</td>\n",
       "    </tr>\n",
       "    <tr>\n",
       "      <th>35036</th>\n",
       "      <td>31/12/2018</td>\n",
       "      <td>23:07:30</td>\n",
       "      <td>23.029933</td>\n",
       "      <td>0</td>\n",
       "      <td>2018-12-31 23:07:30</td>\n",
       "    </tr>\n",
       "    <tr>\n",
       "      <th>35037</th>\n",
       "      <td>31/12/2018</td>\n",
       "      <td>23:22:30</td>\n",
       "      <td>20.415628</td>\n",
       "      <td>0</td>\n",
       "      <td>2018-12-31 23:22:30</td>\n",
       "    </tr>\n",
       "    <tr>\n",
       "      <th>35038</th>\n",
       "      <td>31/12/2018</td>\n",
       "      <td>23:37:30</td>\n",
       "      <td>22.019056</td>\n",
       "      <td>0</td>\n",
       "      <td>2018-12-31 23:37:30</td>\n",
       "    </tr>\n",
       "    <tr>\n",
       "      <th>35039</th>\n",
       "      <td>31/12/2018</td>\n",
       "      <td>23:52:30</td>\n",
       "      <td>20.792000</td>\n",
       "      <td>0</td>\n",
       "      <td>2018-12-31 23:52:30</td>\n",
       "    </tr>\n",
       "  </tbody>\n",
       "</table>\n",
       "<p>35040 rows × 5 columns</p>\n",
       "</div>"
      ],
      "text/plain": [
       "             date      time       flow  anomaly             datetime\n",
       "0      01/01/2018  00:07:30  18.333067        0  2018-01-01 00:07:30\n",
       "1      01/01/2018  00:22:30  18.333067        0  2018-01-01 00:22:30\n",
       "2      01/01/2018  00:37:30  19.784872        0  2018-01-01 00:37:30\n",
       "3      01/01/2018  00:52:30  22.294744        0  2018-01-01 00:52:30\n",
       "4      01/01/2018  01:07:30  27.229756        0  2018-01-01 01:07:30\n",
       "...           ...       ...        ...      ...                  ...\n",
       "35035  31/12/2018  22:52:30  24.792000        0  2018-12-31 22:52:30\n",
       "35036  31/12/2018  23:07:30  23.029933        0  2018-12-31 23:07:30\n",
       "35037  31/12/2018  23:22:30  20.415628        0  2018-12-31 23:22:30\n",
       "35038  31/12/2018  23:37:30  22.019056        0  2018-12-31 23:37:30\n",
       "35039  31/12/2018  23:52:30  20.792000        0  2018-12-31 23:52:30\n",
       "\n",
       "[35040 rows x 5 columns]"
      ]
     },
     "execution_count": 5,
     "metadata": {},
     "output_type": "execute_result"
    }
   ],
   "source": [
    "# The strftime() method returns a string representing date and time using date, time or datetime object\n",
    "df['datetime'] = pd.to_datetime(df['datetime'], dayfirst=True).dt.strftime('%Y-%m-%d %H:%M:%S').astype(str)\n",
    "# Visualize data\n",
    "df"
   ]
  },
  {
   "cell_type": "code",
   "execution_count": 6,
   "metadata": {},
   "outputs": [
    {
     "data": {
      "text/plain": [
       "date         object\n",
       "time         object\n",
       "flow        float64\n",
       "anomaly       int64\n",
       "datetime     object\n",
       "dtype: object"
      ]
     },
     "execution_count": 6,
     "metadata": {},
     "output_type": "execute_result"
    }
   ],
   "source": [
    "df.dtypes"
   ]
  },
  {
   "cell_type": "code",
   "execution_count": 8,
   "metadata": {},
   "outputs": [],
   "source": [
    "jantemp= df[df['date'].str.contains('^01.*')]"
   ]
  },
  {
   "cell_type": "code",
   "execution_count": 9,
   "metadata": {},
   "outputs": [
    {
     "data": {
      "text/html": [
       "<div>\n",
       "<style scoped>\n",
       "    .dataframe tbody tr th:only-of-type {\n",
       "        vertical-align: middle;\n",
       "    }\n",
       "\n",
       "    .dataframe tbody tr th {\n",
       "        vertical-align: top;\n",
       "    }\n",
       "\n",
       "    .dataframe thead th {\n",
       "        text-align: right;\n",
       "    }\n",
       "</style>\n",
       "<table border=\"1\" class=\"dataframe\">\n",
       "  <thead>\n",
       "    <tr style=\"text-align: right;\">\n",
       "      <th></th>\n",
       "      <th>date</th>\n",
       "      <th>time</th>\n",
       "      <th>flow</th>\n",
       "      <th>anomaly</th>\n",
       "      <th>datetime</th>\n",
       "    </tr>\n",
       "  </thead>\n",
       "  <tbody>\n",
       "    <tr>\n",
       "      <th>0</th>\n",
       "      <td>01/01/2018</td>\n",
       "      <td>00:07:30</td>\n",
       "      <td>18.333067</td>\n",
       "      <td>0</td>\n",
       "      <td>2018-01-01 00:07:30</td>\n",
       "    </tr>\n",
       "    <tr>\n",
       "      <th>1</th>\n",
       "      <td>01/01/2018</td>\n",
       "      <td>00:22:30</td>\n",
       "      <td>18.333067</td>\n",
       "      <td>0</td>\n",
       "      <td>2018-01-01 00:22:30</td>\n",
       "    </tr>\n",
       "    <tr>\n",
       "      <th>2</th>\n",
       "      <td>01/01/2018</td>\n",
       "      <td>00:37:30</td>\n",
       "      <td>19.784872</td>\n",
       "      <td>0</td>\n",
       "      <td>2018-01-01 00:37:30</td>\n",
       "    </tr>\n",
       "    <tr>\n",
       "      <th>3</th>\n",
       "      <td>01/01/2018</td>\n",
       "      <td>00:52:30</td>\n",
       "      <td>22.294744</td>\n",
       "      <td>0</td>\n",
       "      <td>2018-01-01 00:52:30</td>\n",
       "    </tr>\n",
       "    <tr>\n",
       "      <th>4</th>\n",
       "      <td>01/01/2018</td>\n",
       "      <td>01:07:30</td>\n",
       "      <td>27.229756</td>\n",
       "      <td>0</td>\n",
       "      <td>2018-01-01 01:07:30</td>\n",
       "    </tr>\n",
       "    <tr>\n",
       "      <th>...</th>\n",
       "      <td>...</td>\n",
       "      <td>...</td>\n",
       "      <td>...</td>\n",
       "      <td>...</td>\n",
       "      <td>...</td>\n",
       "    </tr>\n",
       "    <tr>\n",
       "      <th>32155</th>\n",
       "      <td>01/12/2018</td>\n",
       "      <td>22:52:30</td>\n",
       "      <td>19.247678</td>\n",
       "      <td>0</td>\n",
       "      <td>2018-12-01 22:52:30</td>\n",
       "    </tr>\n",
       "    <tr>\n",
       "      <th>32156</th>\n",
       "      <td>01/12/2018</td>\n",
       "      <td>23:07:30</td>\n",
       "      <td>18.595989</td>\n",
       "      <td>0</td>\n",
       "      <td>2018-12-01 23:07:30</td>\n",
       "    </tr>\n",
       "    <tr>\n",
       "      <th>32157</th>\n",
       "      <td>01/12/2018</td>\n",
       "      <td>23:22:30</td>\n",
       "      <td>17.117467</td>\n",
       "      <td>0</td>\n",
       "      <td>2018-12-01 23:22:30</td>\n",
       "    </tr>\n",
       "    <tr>\n",
       "      <th>32158</th>\n",
       "      <td>01/12/2018</td>\n",
       "      <td>23:37:30</td>\n",
       "      <td>19.979967</td>\n",
       "      <td>0</td>\n",
       "      <td>2018-12-01 23:37:30</td>\n",
       "    </tr>\n",
       "    <tr>\n",
       "      <th>32159</th>\n",
       "      <td>01/12/2018</td>\n",
       "      <td>23:52:30</td>\n",
       "      <td>17.293578</td>\n",
       "      <td>0</td>\n",
       "      <td>2018-12-01 23:52:30</td>\n",
       "    </tr>\n",
       "  </tbody>\n",
       "</table>\n",
       "<p>1152 rows × 5 columns</p>\n",
       "</div>"
      ],
      "text/plain": [
       "             date      time       flow  anomaly             datetime\n",
       "0      01/01/2018  00:07:30  18.333067        0  2018-01-01 00:07:30\n",
       "1      01/01/2018  00:22:30  18.333067        0  2018-01-01 00:22:30\n",
       "2      01/01/2018  00:37:30  19.784872        0  2018-01-01 00:37:30\n",
       "3      01/01/2018  00:52:30  22.294744        0  2018-01-01 00:52:30\n",
       "4      01/01/2018  01:07:30  27.229756        0  2018-01-01 01:07:30\n",
       "...           ...       ...        ...      ...                  ...\n",
       "32155  01/12/2018  22:52:30  19.247678        0  2018-12-01 22:52:30\n",
       "32156  01/12/2018  23:07:30  18.595989        0  2018-12-01 23:07:30\n",
       "32157  01/12/2018  23:22:30  17.117467        0  2018-12-01 23:22:30\n",
       "32158  01/12/2018  23:37:30  19.979967        0  2018-12-01 23:37:30\n",
       "32159  01/12/2018  23:52:30  17.293578        0  2018-12-01 23:52:30\n",
       "\n",
       "[1152 rows x 5 columns]"
      ]
     },
     "execution_count": 9,
     "metadata": {},
     "output_type": "execute_result"
    }
   ],
   "source": [
    "jantemp"
   ]
  },
  {
   "cell_type": "code",
   "execution_count": 10,
   "metadata": {},
   "outputs": [],
   "source": [
    "meianoite= df[df['time'].str.contains('^00.*')]"
   ]
  },
  {
   "cell_type": "code",
   "execution_count": 11,
   "metadata": {},
   "outputs": [
    {
     "data": {
      "text/html": [
       "<div>\n",
       "<style scoped>\n",
       "    .dataframe tbody tr th:only-of-type {\n",
       "        vertical-align: middle;\n",
       "    }\n",
       "\n",
       "    .dataframe tbody tr th {\n",
       "        vertical-align: top;\n",
       "    }\n",
       "\n",
       "    .dataframe thead th {\n",
       "        text-align: right;\n",
       "    }\n",
       "</style>\n",
       "<table border=\"1\" class=\"dataframe\">\n",
       "  <thead>\n",
       "    <tr style=\"text-align: right;\">\n",
       "      <th></th>\n",
       "      <th>date</th>\n",
       "      <th>time</th>\n",
       "      <th>flow</th>\n",
       "      <th>anomaly</th>\n",
       "      <th>datetime</th>\n",
       "    </tr>\n",
       "  </thead>\n",
       "  <tbody>\n",
       "    <tr>\n",
       "      <th>0</th>\n",
       "      <td>01/01/2018</td>\n",
       "      <td>00:07:30</td>\n",
       "      <td>18.333067</td>\n",
       "      <td>0</td>\n",
       "      <td>2018-01-01 00:07:30</td>\n",
       "    </tr>\n",
       "    <tr>\n",
       "      <th>1</th>\n",
       "      <td>01/01/2018</td>\n",
       "      <td>00:22:30</td>\n",
       "      <td>18.333067</td>\n",
       "      <td>0</td>\n",
       "      <td>2018-01-01 00:22:30</td>\n",
       "    </tr>\n",
       "    <tr>\n",
       "      <th>2</th>\n",
       "      <td>01/01/2018</td>\n",
       "      <td>00:37:30</td>\n",
       "      <td>19.784872</td>\n",
       "      <td>0</td>\n",
       "      <td>2018-01-01 00:37:30</td>\n",
       "    </tr>\n",
       "    <tr>\n",
       "      <th>3</th>\n",
       "      <td>01/01/2018</td>\n",
       "      <td>00:52:30</td>\n",
       "      <td>22.294744</td>\n",
       "      <td>0</td>\n",
       "      <td>2018-01-01 00:52:30</td>\n",
       "    </tr>\n",
       "    <tr>\n",
       "      <th>96</th>\n",
       "      <td>02/01/2018</td>\n",
       "      <td>00:07:30</td>\n",
       "      <td>15.008750</td>\n",
       "      <td>0</td>\n",
       "      <td>2018-01-02 00:07:30</td>\n",
       "    </tr>\n",
       "    <tr>\n",
       "      <th>...</th>\n",
       "      <td>...</td>\n",
       "      <td>...</td>\n",
       "      <td>...</td>\n",
       "      <td>...</td>\n",
       "      <td>...</td>\n",
       "    </tr>\n",
       "    <tr>\n",
       "      <th>34851</th>\n",
       "      <td>30/12/2018</td>\n",
       "      <td>00:52:30</td>\n",
       "      <td>12.127739</td>\n",
       "      <td>0</td>\n",
       "      <td>2018-12-30 00:52:30</td>\n",
       "    </tr>\n",
       "    <tr>\n",
       "      <th>34944</th>\n",
       "      <td>31/12/2018</td>\n",
       "      <td>00:07:30</td>\n",
       "      <td>13.078483</td>\n",
       "      <td>0</td>\n",
       "      <td>2018-12-31 00:07:30</td>\n",
       "    </tr>\n",
       "    <tr>\n",
       "      <th>34945</th>\n",
       "      <td>31/12/2018</td>\n",
       "      <td>00:22:30</td>\n",
       "      <td>12.045128</td>\n",
       "      <td>0</td>\n",
       "      <td>2018-12-31 00:22:30</td>\n",
       "    </tr>\n",
       "    <tr>\n",
       "      <th>34946</th>\n",
       "      <td>31/12/2018</td>\n",
       "      <td>00:37:30</td>\n",
       "      <td>11.617411</td>\n",
       "      <td>0</td>\n",
       "      <td>2018-12-31 00:37:30</td>\n",
       "    </tr>\n",
       "    <tr>\n",
       "      <th>34947</th>\n",
       "      <td>31/12/2018</td>\n",
       "      <td>00:52:30</td>\n",
       "      <td>10.026489</td>\n",
       "      <td>0</td>\n",
       "      <td>2018-12-31 00:52:30</td>\n",
       "    </tr>\n",
       "  </tbody>\n",
       "</table>\n",
       "<p>1460 rows × 5 columns</p>\n",
       "</div>"
      ],
      "text/plain": [
       "             date      time       flow  anomaly             datetime\n",
       "0      01/01/2018  00:07:30  18.333067        0  2018-01-01 00:07:30\n",
       "1      01/01/2018  00:22:30  18.333067        0  2018-01-01 00:22:30\n",
       "2      01/01/2018  00:37:30  19.784872        0  2018-01-01 00:37:30\n",
       "3      01/01/2018  00:52:30  22.294744        0  2018-01-01 00:52:30\n",
       "96     02/01/2018  00:07:30  15.008750        0  2018-01-02 00:07:30\n",
       "...           ...       ...        ...      ...                  ...\n",
       "34851  30/12/2018  00:52:30  12.127739        0  2018-12-30 00:52:30\n",
       "34944  31/12/2018  00:07:30  13.078483        0  2018-12-31 00:07:30\n",
       "34945  31/12/2018  00:22:30  12.045128        0  2018-12-31 00:22:30\n",
       "34946  31/12/2018  00:37:30  11.617411        0  2018-12-31 00:37:30\n",
       "34947  31/12/2018  00:52:30  10.026489        0  2018-12-31 00:52:30\n",
       "\n",
       "[1460 rows x 5 columns]"
      ]
     },
     "execution_count": 11,
     "metadata": {},
     "output_type": "execute_result"
    }
   ],
   "source": [
    "meianoite"
   ]
  },
  {
   "cell_type": "code",
   "execution_count": 12,
   "metadata": {},
   "outputs": [
    {
     "name": "stderr",
     "output_type": "stream",
     "text": [
      "<ipython-input-12-06d1a89694e9>:3: SettingWithCopyWarning: \n",
      "A value is trying to be set on a copy of a slice from a DataFrame.\n",
      "Try using .loc[row_indexer,col_indexer] = value instead\n",
      "\n",
      "See the caveats in the documentation: https://pandas.pydata.org/pandas-docs/stable/user_guide/indexing.html#returning-a-view-versus-a-copy\n",
      "  meianoite['datetime'] = pd.DatetimeIndex(data=meianoite['datetime'], dtype='datetime64[ns]', name='datetime', freq=None)\n"
     ]
    }
   ],
   "source": [
    "# Immutable ndarray-like of datetime64 data\n",
    "# Represented internally as int64, and which can be boxed to Timestamp objects that are subclasses of datetime and carry metadata.\n",
    "meianoite['datetime'] = pd.DatetimeIndex(data=meianoite['datetime'], dtype='datetime64[ns]', name='datetime', freq=None)"
   ]
  },
  {
   "cell_type": "code",
   "execution_count": null,
   "metadata": {},
   "outputs": [],
   "source": []
  },
  {
   "cell_type": "code",
   "execution_count": null,
   "metadata": {},
   "outputs": [],
   "source": []
  },
  {
   "cell_type": "code",
   "execution_count": 22,
   "metadata": {},
   "outputs": [
    {
     "data": {
      "text/plain": [
       "date                object\n",
       "time                object\n",
       "flow               float64\n",
       "anomaly              int64\n",
       "datetime    datetime64[ns]\n",
       "dtype: object"
      ]
     },
     "execution_count": 22,
     "metadata": {},
     "output_type": "execute_result"
    }
   ],
   "source": [
    "df.dtypes"
   ]
  },
  {
   "cell_type": "code",
   "execution_count": 7,
   "metadata": {},
   "outputs": [
    {
     "ename": "TypeError",
     "evalue": "Only valid with DatetimeIndex, TimedeltaIndex or PeriodIndex, but got an instance of 'Index'",
     "output_type": "error",
     "traceback": [
      "\u001b[1;31m---------------------------------------------------------------------------\u001b[0m",
      "\u001b[1;31mTypeError\u001b[0m                                 Traceback (most recent call last)",
      "\u001b[1;32m<ipython-input-7-0b8e44c6bbad>\u001b[0m in \u001b[0;36m<module>\u001b[1;34m\u001b[0m\n\u001b[0;32m      1\u001b[0m \u001b[1;31m# df['time'] = pd.to_datetime(df['time'])\u001b[0m\u001b[1;33m\u001b[0m\u001b[1;33m\u001b[0m\u001b[1;33m\u001b[0m\u001b[0m\n\u001b[1;32m----> 2\u001b[1;33m \u001b[0mdf1\u001b[0m \u001b[1;33m=\u001b[0m \u001b[0mdf\u001b[0m\u001b[1;33m.\u001b[0m\u001b[0mresample\u001b[0m\u001b[1;33m(\u001b[0m\u001b[1;34m'60min'\u001b[0m\u001b[1;33m,\u001b[0m \u001b[0mon\u001b[0m\u001b[1;33m=\u001b[0m\u001b[1;34m'datetime'\u001b[0m\u001b[1;33m)\u001b[0m\u001b[1;33m.\u001b[0m\u001b[0mmean\u001b[0m\u001b[1;33m(\u001b[0m\u001b[1;33m)\u001b[0m\u001b[1;33m\u001b[0m\u001b[1;33m\u001b[0m\u001b[0m\n\u001b[0m\u001b[0;32m      3\u001b[0m \u001b[0mprint\u001b[0m \u001b[1;33m(\u001b[0m\u001b[0mdf1\u001b[0m\u001b[1;33m)\u001b[0m\u001b[1;33m\u001b[0m\u001b[1;33m\u001b[0m\u001b[0m\n",
      "\u001b[1;32m~\\anaconda3\\lib\\site-packages\\pandas\\core\\generic.py\u001b[0m in \u001b[0;36mresample\u001b[1;34m(self, rule, axis, closed, label, convention, kind, loffset, base, on, level)\u001b[0m\n\u001b[0;32m   8102\u001b[0m \u001b[1;33m\u001b[0m\u001b[0m\n\u001b[0;32m   8103\u001b[0m         \u001b[0maxis\u001b[0m \u001b[1;33m=\u001b[0m \u001b[0mself\u001b[0m\u001b[1;33m.\u001b[0m\u001b[0m_get_axis_number\u001b[0m\u001b[1;33m(\u001b[0m\u001b[0maxis\u001b[0m\u001b[1;33m)\u001b[0m\u001b[1;33m\u001b[0m\u001b[1;33m\u001b[0m\u001b[0m\n\u001b[1;32m-> 8104\u001b[1;33m         return resample(\n\u001b[0m\u001b[0;32m   8105\u001b[0m             \u001b[0mself\u001b[0m\u001b[1;33m,\u001b[0m\u001b[1;33m\u001b[0m\u001b[1;33m\u001b[0m\u001b[0m\n\u001b[0;32m   8106\u001b[0m             \u001b[0mfreq\u001b[0m\u001b[1;33m=\u001b[0m\u001b[0mrule\u001b[0m\u001b[1;33m,\u001b[0m\u001b[1;33m\u001b[0m\u001b[1;33m\u001b[0m\u001b[0m\n",
      "\u001b[1;32m~\\anaconda3\\lib\\site-packages\\pandas\\core\\resample.py\u001b[0m in \u001b[0;36mresample\u001b[1;34m(obj, kind, **kwds)\u001b[0m\n\u001b[0;32m   1268\u001b[0m     \"\"\"\n\u001b[0;32m   1269\u001b[0m     \u001b[0mtg\u001b[0m \u001b[1;33m=\u001b[0m \u001b[0mTimeGrouper\u001b[0m\u001b[1;33m(\u001b[0m\u001b[1;33m**\u001b[0m\u001b[0mkwds\u001b[0m\u001b[1;33m)\u001b[0m\u001b[1;33m\u001b[0m\u001b[1;33m\u001b[0m\u001b[0m\n\u001b[1;32m-> 1270\u001b[1;33m     \u001b[1;32mreturn\u001b[0m \u001b[0mtg\u001b[0m\u001b[1;33m.\u001b[0m\u001b[0m_get_resampler\u001b[0m\u001b[1;33m(\u001b[0m\u001b[0mobj\u001b[0m\u001b[1;33m,\u001b[0m \u001b[0mkind\u001b[0m\u001b[1;33m=\u001b[0m\u001b[0mkind\u001b[0m\u001b[1;33m)\u001b[0m\u001b[1;33m\u001b[0m\u001b[1;33m\u001b[0m\u001b[0m\n\u001b[0m\u001b[0;32m   1271\u001b[0m \u001b[1;33m\u001b[0m\u001b[0m\n\u001b[0;32m   1272\u001b[0m \u001b[1;33m\u001b[0m\u001b[0m\n",
      "\u001b[1;32m~\\anaconda3\\lib\\site-packages\\pandas\\core\\resample.py\u001b[0m in \u001b[0;36m_get_resampler\u001b[1;34m(self, obj, kind)\u001b[0m\n\u001b[0;32m   1401\u001b[0m             \u001b[1;32mreturn\u001b[0m \u001b[0mTimedeltaIndexResampler\u001b[0m\u001b[1;33m(\u001b[0m\u001b[0mobj\u001b[0m\u001b[1;33m,\u001b[0m \u001b[0mgroupby\u001b[0m\u001b[1;33m=\u001b[0m\u001b[0mself\u001b[0m\u001b[1;33m,\u001b[0m \u001b[0maxis\u001b[0m\u001b[1;33m=\u001b[0m\u001b[0mself\u001b[0m\u001b[1;33m.\u001b[0m\u001b[0maxis\u001b[0m\u001b[1;33m)\u001b[0m\u001b[1;33m\u001b[0m\u001b[1;33m\u001b[0m\u001b[0m\n\u001b[0;32m   1402\u001b[0m \u001b[1;33m\u001b[0m\u001b[0m\n\u001b[1;32m-> 1403\u001b[1;33m         raise TypeError(\n\u001b[0m\u001b[0;32m   1404\u001b[0m             \u001b[1;34m\"Only valid with DatetimeIndex, \"\u001b[0m\u001b[1;33m\u001b[0m\u001b[1;33m\u001b[0m\u001b[0m\n\u001b[0;32m   1405\u001b[0m             \u001b[1;34m\"TimedeltaIndex or PeriodIndex, \"\u001b[0m\u001b[1;33m\u001b[0m\u001b[1;33m\u001b[0m\u001b[0m\n",
      "\u001b[1;31mTypeError\u001b[0m: Only valid with DatetimeIndex, TimedeltaIndex or PeriodIndex, but got an instance of 'Index'"
     ]
    }
   ],
   "source": [
    "# df['time'] = pd.to_datetime(df['time'])\n",
    "df1 = df.resample('60min', on='datetime').mean()\n",
    "print (df1)"
   ]
  },
  {
   "cell_type": "code",
   "execution_count": 24,
   "metadata": {},
   "outputs": [
    {
     "data": {
      "text/html": [
       "<div>\n",
       "<style scoped>\n",
       "    .dataframe tbody tr th:only-of-type {\n",
       "        vertical-align: middle;\n",
       "    }\n",
       "\n",
       "    .dataframe tbody tr th {\n",
       "        vertical-align: top;\n",
       "    }\n",
       "\n",
       "    .dataframe thead th {\n",
       "        text-align: right;\n",
       "    }\n",
       "</style>\n",
       "<table border=\"1\" class=\"dataframe\">\n",
       "  <thead>\n",
       "    <tr style=\"text-align: right;\">\n",
       "      <th></th>\n",
       "      <th>flow</th>\n",
       "      <th>anomaly</th>\n",
       "    </tr>\n",
       "    <tr>\n",
       "      <th>datetime</th>\n",
       "      <th></th>\n",
       "      <th></th>\n",
       "    </tr>\n",
       "  </thead>\n",
       "  <tbody>\n",
       "    <tr>\n",
       "      <th>2018-01-01 00:00:00</th>\n",
       "      <td>19.686438</td>\n",
       "      <td>0.0</td>\n",
       "    </tr>\n",
       "    <tr>\n",
       "      <th>2018-01-01 01:00:00</th>\n",
       "      <td>26.438410</td>\n",
       "      <td>0.0</td>\n",
       "    </tr>\n",
       "    <tr>\n",
       "      <th>2018-01-01 02:00:00</th>\n",
       "      <td>20.883749</td>\n",
       "      <td>0.0</td>\n",
       "    </tr>\n",
       "    <tr>\n",
       "      <th>2018-01-01 03:00:00</th>\n",
       "      <td>17.249310</td>\n",
       "      <td>0.0</td>\n",
       "    </tr>\n",
       "    <tr>\n",
       "      <th>2018-01-01 04:00:00</th>\n",
       "      <td>13.126283</td>\n",
       "      <td>0.0</td>\n",
       "    </tr>\n",
       "    <tr>\n",
       "      <th>...</th>\n",
       "      <td>...</td>\n",
       "      <td>...</td>\n",
       "    </tr>\n",
       "    <tr>\n",
       "      <th>2018-12-31 19:00:00</th>\n",
       "      <td>35.008319</td>\n",
       "      <td>0.0</td>\n",
       "    </tr>\n",
       "    <tr>\n",
       "      <th>2018-12-31 20:00:00</th>\n",
       "      <td>24.399982</td>\n",
       "      <td>0.0</td>\n",
       "    </tr>\n",
       "    <tr>\n",
       "      <th>2018-12-31 21:00:00</th>\n",
       "      <td>22.056600</td>\n",
       "      <td>0.0</td>\n",
       "    </tr>\n",
       "    <tr>\n",
       "      <th>2018-12-31 22:00:00</th>\n",
       "      <td>24.098743</td>\n",
       "      <td>0.0</td>\n",
       "    </tr>\n",
       "    <tr>\n",
       "      <th>2018-12-31 23:00:00</th>\n",
       "      <td>21.564154</td>\n",
       "      <td>0.0</td>\n",
       "    </tr>\n",
       "  </tbody>\n",
       "</table>\n",
       "<p>8760 rows × 2 columns</p>\n",
       "</div>"
      ],
      "text/plain": [
       "                          flow  anomaly\n",
       "datetime                               \n",
       "2018-01-01 00:00:00  19.686438      0.0\n",
       "2018-01-01 01:00:00  26.438410      0.0\n",
       "2018-01-01 02:00:00  20.883749      0.0\n",
       "2018-01-01 03:00:00  17.249310      0.0\n",
       "2018-01-01 04:00:00  13.126283      0.0\n",
       "...                        ...      ...\n",
       "2018-12-31 19:00:00  35.008319      0.0\n",
       "2018-12-31 20:00:00  24.399982      0.0\n",
       "2018-12-31 21:00:00  22.056600      0.0\n",
       "2018-12-31 22:00:00  24.098743      0.0\n",
       "2018-12-31 23:00:00  21.564154      0.0\n",
       "\n",
       "[8760 rows x 2 columns]"
      ]
     },
     "execution_count": 24,
     "metadata": {},
     "output_type": "execute_result"
    }
   ],
   "source": [
    "df1"
   ]
  },
  {
   "cell_type": "code",
   "execution_count": 25,
   "metadata": {},
   "outputs": [
    {
     "data": {
      "text/plain": [
       "(8760, 2)"
      ]
     },
     "execution_count": 25,
     "metadata": {},
     "output_type": "execute_result"
    }
   ],
   "source": [
    "df1.shape"
   ]
  },
  {
   "cell_type": "code",
   "execution_count": 26,
   "metadata": {},
   "outputs": [
    {
     "data": {
      "text/plain": [
       "[Text(0, 0.5, 'Avarage consumption'), Text(0.5, 1.0, 'Average Flow Rate')]"
      ]
     },
     "execution_count": 26,
     "metadata": {},
     "output_type": "execute_result"
    },
    {
     "data": {
      "image/png": "[encoded data removed]",
      "text/plain": [
       "<Figure size 864x432 with 1 Axes>"
      ]
     },
     "metadata": {
      "needs_background": "light"
     },
     "output_type": "display_data"
    }
   ],
   "source": [
    "ax = df1['flow'].plot(figsize=(12,6)) # .resample(rule='MS').mean()\n",
    "ax.set(title='Average Flow Rate', ylabel='Avarage consumption')"
   ]
  },
  {
   "cell_type": "code",
   "execution_count": null,
   "metadata": {},
   "outputs": [],
   "source": []
  },
  {
   "cell_type": "code",
   "execution_count": null,
   "metadata": {},
   "outputs": [],
   "source": []
  },
  {
   "cell_type": "code",
   "execution_count": null,
   "metadata": {},
   "outputs": [],
   "source": []
  },
  {
   "cell_type": "code",
   "execution_count": null,
   "metadata": {},
   "outputs": [],
   "source": []
  },
  {
   "cell_type": "code",
   "execution_count": null,
   "metadata": {},
   "outputs": [],
   "source": []
  },
  {
   "cell_type": "code",
   "execution_count": 31,
   "metadata": {},
   "outputs": [
    {
     "ename": "TypeError",
     "evalue": "Only valid with DatetimeIndex, TimedeltaIndex or PeriodIndex, but got an instance of 'RangeIndex'",
     "output_type": "error",
     "traceback": [
      "\u001b[1;31m---------------------------------------------------------------------------\u001b[0m",
      "\u001b[1;31mTypeError\u001b[0m                                 Traceback (most recent call last)",
      "\u001b[1;32m<ipython-input-31-949a1d37e63b>\u001b[0m in \u001b[0;36m<module>\u001b[1;34m\u001b[0m\n\u001b[1;32m----> 1\u001b[1;33m \u001b[0max\u001b[0m \u001b[1;33m=\u001b[0m \u001b[0mdf\u001b[0m\u001b[1;33m[\u001b[0m\u001b[1;34m'flow'\u001b[0m\u001b[1;33m]\u001b[0m\u001b[1;33m.\u001b[0m\u001b[0mresample\u001b[0m\u001b[1;33m(\u001b[0m\u001b[1;34m'60min'\u001b[0m\u001b[1;33m)\u001b[0m\u001b[1;33m.\u001b[0m\u001b[0mmean\u001b[0m\u001b[1;33m(\u001b[0m\u001b[1;33m)\u001b[0m\u001b[1;33m.\u001b[0m\u001b[0mplot\u001b[0m\u001b[1;33m(\u001b[0m\u001b[0mfigsize\u001b[0m\u001b[1;33m=\u001b[0m\u001b[1;33m(\u001b[0m\u001b[1;36m12\u001b[0m\u001b[1;33m,\u001b[0m\u001b[1;36m6\u001b[0m\u001b[1;33m)\u001b[0m\u001b[1;33m)\u001b[0m\u001b[1;33m\u001b[0m\u001b[1;33m\u001b[0m\u001b[0m\n\u001b[0m\u001b[0;32m      2\u001b[0m \u001b[0max\u001b[0m\u001b[1;33m.\u001b[0m\u001b[0mset\u001b[0m\u001b[1;33m(\u001b[0m\u001b[0mtitle\u001b[0m\u001b[1;33m=\u001b[0m\u001b[1;34m'Average consumptions per hour'\u001b[0m\u001b[1;33m,\u001b[0m \u001b[0mylabel\u001b[0m\u001b[1;33m=\u001b[0m\u001b[1;34m'Average consumption'\u001b[0m\u001b[1;33m)\u001b[0m\u001b[1;33m\u001b[0m\u001b[1;33m\u001b[0m\u001b[0m\n",
      "\u001b[1;32m~\\anaconda3\\lib\\site-packages\\pandas\\core\\generic.py\u001b[0m in \u001b[0;36mresample\u001b[1;34m(self, rule, axis, closed, label, convention, kind, loffset, base, on, level)\u001b[0m\n\u001b[0;32m   8102\u001b[0m \u001b[1;33m\u001b[0m\u001b[0m\n\u001b[0;32m   8103\u001b[0m         \u001b[0maxis\u001b[0m \u001b[1;33m=\u001b[0m \u001b[0mself\u001b[0m\u001b[1;33m.\u001b[0m\u001b[0m_get_axis_number\u001b[0m\u001b[1;33m(\u001b[0m\u001b[0maxis\u001b[0m\u001b[1;33m)\u001b[0m\u001b[1;33m\u001b[0m\u001b[1;33m\u001b[0m\u001b[0m\n\u001b[1;32m-> 8104\u001b[1;33m         return resample(\n\u001b[0m\u001b[0;32m   8105\u001b[0m             \u001b[0mself\u001b[0m\u001b[1;33m,\u001b[0m\u001b[1;33m\u001b[0m\u001b[1;33m\u001b[0m\u001b[0m\n\u001b[0;32m   8106\u001b[0m             \u001b[0mfreq\u001b[0m\u001b[1;33m=\u001b[0m\u001b[0mrule\u001b[0m\u001b[1;33m,\u001b[0m\u001b[1;33m\u001b[0m\u001b[1;33m\u001b[0m\u001b[0m\n",
      "\u001b[1;32m~\\anaconda3\\lib\\site-packages\\pandas\\core\\resample.py\u001b[0m in \u001b[0;36mresample\u001b[1;34m(obj, kind, **kwds)\u001b[0m\n\u001b[0;32m   1268\u001b[0m     \"\"\"\n\u001b[0;32m   1269\u001b[0m     \u001b[0mtg\u001b[0m \u001b[1;33m=\u001b[0m \u001b[0mTimeGrouper\u001b[0m\u001b[1;33m(\u001b[0m\u001b[1;33m**\u001b[0m\u001b[0mkwds\u001b[0m\u001b[1;33m)\u001b[0m\u001b[1;33m\u001b[0m\u001b[1;33m\u001b[0m\u001b[0m\n\u001b[1;32m-> 1270\u001b[1;33m     \u001b[1;32mreturn\u001b[0m \u001b[0mtg\u001b[0m\u001b[1;33m.\u001b[0m\u001b[0m_get_resampler\u001b[0m\u001b[1;33m(\u001b[0m\u001b[0mobj\u001b[0m\u001b[1;33m,\u001b[0m \u001b[0mkind\u001b[0m\u001b[1;33m=\u001b[0m\u001b[0mkind\u001b[0m\u001b[1;33m)\u001b[0m\u001b[1;33m\u001b[0m\u001b[1;33m\u001b[0m\u001b[0m\n\u001b[0m\u001b[0;32m   1271\u001b[0m \u001b[1;33m\u001b[0m\u001b[0m\n\u001b[0;32m   1272\u001b[0m \u001b[1;33m\u001b[0m\u001b[0m\n",
      "\u001b[1;32m~\\anaconda3\\lib\\site-packages\\pandas\\core\\resample.py\u001b[0m in \u001b[0;36m_get_resampler\u001b[1;34m(self, obj, kind)\u001b[0m\n\u001b[0;32m   1401\u001b[0m             \u001b[1;32mreturn\u001b[0m \u001b[0mTimedeltaIndexResampler\u001b[0m\u001b[1;33m(\u001b[0m\u001b[0mobj\u001b[0m\u001b[1;33m,\u001b[0m \u001b[0mgroupby\u001b[0m\u001b[1;33m=\u001b[0m\u001b[0mself\u001b[0m\u001b[1;33m,\u001b[0m \u001b[0maxis\u001b[0m\u001b[1;33m=\u001b[0m\u001b[0mself\u001b[0m\u001b[1;33m.\u001b[0m\u001b[0maxis\u001b[0m\u001b[1;33m)\u001b[0m\u001b[1;33m\u001b[0m\u001b[1;33m\u001b[0m\u001b[0m\n\u001b[0;32m   1402\u001b[0m \u001b[1;33m\u001b[0m\u001b[0m\n\u001b[1;32m-> 1403\u001b[1;33m         raise TypeError(\n\u001b[0m\u001b[0;32m   1404\u001b[0m             \u001b[1;34m\"Only valid with DatetimeIndex, \"\u001b[0m\u001b[1;33m\u001b[0m\u001b[1;33m\u001b[0m\u001b[0m\n\u001b[0;32m   1405\u001b[0m             \u001b[1;34m\"TimedeltaIndex or PeriodIndex, \"\u001b[0m\u001b[1;33m\u001b[0m\u001b[1;33m\u001b[0m\u001b[0m\n",
      "\u001b[1;31mTypeError\u001b[0m: Only valid with DatetimeIndex, TimedeltaIndex or PeriodIndex, but got an instance of 'RangeIndex'"
     ]
    }
   ],
   "source": [
    "ax = df['flow'].resample('60min').mean().plot(figsize=(12,6))\n",
    "ax.set(title='Average consumptions per hour', ylabel='Average consumption')"
   ]
  },
  {
   "cell_type": "code",
   "execution_count": 32,
   "metadata": {},
   "outputs": [],
   "source": [
    "features = [\"date\", \"time\", \"value\", \"detection\"]\n",
    "barreiro_ano = pd.read_csv('barreiro_ano.csv', sep = ';', names = features)"
   ]
  },
  {
   "cell_type": "code",
   "execution_count": 34,
   "metadata": {},
   "outputs": [
    {
     "data": {
      "text/plain": [
       "0       2018-01-01\n",
       "1       2018-01-01\n",
       "2       2018-01-01\n",
       "3       2018-01-01\n",
       "4       2018-01-01\n",
       "           ...    \n",
       "35035   2018-12-31\n",
       "35036   2018-12-31\n",
       "35037   2018-12-31\n",
       "35038   2018-12-31\n",
       "35039   2018-12-31\n",
       "Name: date, Length: 35040, dtype: datetime64[ns]"
      ]
     },
     "execution_count": 34,
     "metadata": {},
     "output_type": "execute_result"
    }
   ],
   "source": [
    "barreiro_ano.date = pd.to_datetime(barreiro_ano.date)\n",
    "barreiro_ano.date"
   ]
  },
  {
   "cell_type": "code",
   "execution_count": 35,
   "metadata": {},
   "outputs": [],
   "source": [
    "barreiro_ano.set_index('date',inplace=True)"
   ]
  },
  {
   "cell_type": "code",
   "execution_count": 43,
   "metadata": {},
   "outputs": [
    {
     "data": {
      "text/plain": [
       "[Text(0, 0.5, 'Average consumption'),\n",
       " Text(0.5, 1.0, 'Average consumptions per hour')]"
      ]
     },
     "execution_count": 43,
     "metadata": {},
     "output_type": "execute_result"
    },
    {
     "data": {
      "image/png": "[encoded data removed]",
      "text/plain": [
       "<Figure size 864x432 with 1 Axes>"
      ]
     },
     "metadata": {
      "needs_background": "light"
     },
     "output_type": "display_data"
    }
   ],
   "source": [
    "ax = barreiro_ano['value'].resample(rule='MS').mean().plot(figsize=(12,6))\n",
    "ax.set(title='Average consumptions per hour', ylabel='Average consumption')"
   ]
  },
  {
   "cell_type": "code",
   "execution_count": 41,
   "metadata": {},
   "outputs": [],
   "source": [
    "mean = barreiro_ano['value'].resample(rule='H').mean()"
   ]
  },
  {
   "cell_type": "code",
   "execution_count": 42,
   "metadata": {},
   "outputs": [
    {
     "data": {
      "text/plain": [
       "date\n",
       "2018-01-01 00:00:00    25.296243\n",
       "2018-01-01 01:00:00          NaN\n",
       "2018-01-01 02:00:00          NaN\n",
       "2018-01-01 03:00:00          NaN\n",
       "2018-01-01 04:00:00          NaN\n",
       "                         ...    \n",
       "2018-12-30 20:00:00          NaN\n",
       "2018-12-30 21:00:00          NaN\n",
       "2018-12-30 22:00:00          NaN\n",
       "2018-12-30 23:00:00          NaN\n",
       "2018-12-31 00:00:00    24.133202\n",
       "Freq: H, Name: value, Length: 8737, dtype: float64"
      ]
     },
     "execution_count": 42,
     "metadata": {},
     "output_type": "execute_result"
    }
   ],
   "source": [
    "mean"
   ]
  },
  {
   "cell_type": "code",
   "execution_count": null,
   "metadata": {},
   "outputs": [],
   "source": []
  }
 ],
 "metadata": {
  "kernelspec": {
   "display_name": "Python 3",
   "language": "python",
   "name": "python3"
  },
  "language_info": {
   "codemirror_mode": {
    "name": "ipython",
    "version": 3
   },
   "file_extension": ".py",
   "mimetype": "text/x-python",
   "name": "python",
   "nbconvert_exporter": "python",
   "pygments_lexer": "ipython3",
   "version": "3.8.3"
  }
 },
 "nbformat": 4,
 "nbformat_minor": 4
}
