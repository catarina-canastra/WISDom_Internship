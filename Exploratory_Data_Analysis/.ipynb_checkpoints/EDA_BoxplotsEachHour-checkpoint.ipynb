{
 "cells": [
  {
   "cell_type": "code",
   "execution_count": 1,
   "metadata": {},
   "outputs": [],
   "source": [
    "# Basics\n",
    "import pandas as pd\n",
    "import numpy as np\n",
    "import time as tm\n",
    "import math\n",
    "# For Exploratory Data Analysis (EDA)\n",
    "import seaborn as sns; sns.set()\n",
    "import matplotlib.pyplot as plt\n",
    "%matplotlib inline"
   ]
  },
  {
   "cell_type": "code",
   "execution_count": 16,
   "metadata": {},
   "outputs": [],
   "source": [
    "header = [\"date\",\"time\",\"flow\",\"anomaly\"]\n",
    "#header = [\"datetime\", \"flow\"] # for WU2 and WU3\n",
    "df = pd.read_csv('Infraquinta2017_5min.csv', sep=',', names=header) # ;\n",
    "holidays = pd.read_csv('Holidays.csv',sep=';')\n",
    "#df"
   ]
  },
  {
   "cell_type": "code",
   "execution_count": 17,
   "metadata": {},
   "outputs": [],
   "source": [
    "newdate = ['07/09/2017']\n",
    "holidays.loc[766]= newdate"
   ]
  },
  {
   "cell_type": "code",
   "execution_count": 18,
   "metadata": {},
   "outputs": [],
   "source": [
    "# only in WU1\n",
    "df['datetime'] = df['date'] + ' ' + df['time']\n",
    "#df"
   ]
  },
  {
   "cell_type": "code",
   "execution_count": 19,
   "metadata": {},
   "outputs": [
    {
     "data": {
      "text/html": [
       "<div>\n",
       "<style scoped>\n",
       "    .dataframe tbody tr th:only-of-type {\n",
       "        vertical-align: middle;\n",
       "    }\n",
       "\n",
       "    .dataframe tbody tr th {\n",
       "        vertical-align: top;\n",
       "    }\n",
       "\n",
       "    .dataframe thead th {\n",
       "        text-align: right;\n",
       "    }\n",
       "</style>\n",
       "<table border=\"1\" class=\"dataframe\">\n",
       "  <thead>\n",
       "    <tr style=\"text-align: right;\">\n",
       "      <th></th>\n",
       "      <th>date</th>\n",
       "      <th>time</th>\n",
       "      <th>flow</th>\n",
       "      <th>anomaly</th>\n",
       "      <th>datetime</th>\n",
       "    </tr>\n",
       "  </thead>\n",
       "  <tbody>\n",
       "    <tr>\n",
       "      <th>0</th>\n",
       "      <td>2017-01-01</td>\n",
       "      <td>00:02:30</td>\n",
       "      <td>73.000000</td>\n",
       "      <td>0</td>\n",
       "      <td>2017-01-01 00:02:30</td>\n",
       "    </tr>\n",
       "    <tr>\n",
       "      <th>1</th>\n",
       "      <td>2017-01-01</td>\n",
       "      <td>00:07:30</td>\n",
       "      <td>76.403833</td>\n",
       "      <td>0</td>\n",
       "      <td>2017-01-01 00:07:30</td>\n",
       "    </tr>\n",
       "    <tr>\n",
       "      <th>2</th>\n",
       "      <td>2017-01-01</td>\n",
       "      <td>00:12:30</td>\n",
       "      <td>85.805667</td>\n",
       "      <td>0</td>\n",
       "      <td>2017-01-01 00:12:30</td>\n",
       "    </tr>\n",
       "    <tr>\n",
       "      <th>3</th>\n",
       "      <td>2017-01-01</td>\n",
       "      <td>00:17:30</td>\n",
       "      <td>85.882833</td>\n",
       "      <td>0</td>\n",
       "      <td>2017-01-01 00:17:30</td>\n",
       "    </tr>\n",
       "    <tr>\n",
       "      <th>4</th>\n",
       "      <td>2017-01-01</td>\n",
       "      <td>00:22:30</td>\n",
       "      <td>80.014500</td>\n",
       "      <td>0</td>\n",
       "      <td>2017-01-01 00:22:30</td>\n",
       "    </tr>\n",
       "    <tr>\n",
       "      <th>...</th>\n",
       "      <td>...</td>\n",
       "      <td>...</td>\n",
       "      <td>...</td>\n",
       "      <td>...</td>\n",
       "      <td>...</td>\n",
       "    </tr>\n",
       "    <tr>\n",
       "      <th>104826</th>\n",
       "      <td>2017-12-30</td>\n",
       "      <td>23:32:30</td>\n",
       "      <td>55.356167</td>\n",
       "      <td>0</td>\n",
       "      <td>2017-12-30 23:32:30</td>\n",
       "    </tr>\n",
       "    <tr>\n",
       "      <th>104827</th>\n",
       "      <td>2017-12-30</td>\n",
       "      <td>23:37:30</td>\n",
       "      <td>53.998167</td>\n",
       "      <td>0</td>\n",
       "      <td>2017-12-30 23:37:30</td>\n",
       "    </tr>\n",
       "    <tr>\n",
       "      <th>104828</th>\n",
       "      <td>2017-12-30</td>\n",
       "      <td>23:42:30</td>\n",
       "      <td>48.799167</td>\n",
       "      <td>0</td>\n",
       "      <td>2017-12-30 23:42:30</td>\n",
       "    </tr>\n",
       "    <tr>\n",
       "      <th>104829</th>\n",
       "      <td>2017-12-30</td>\n",
       "      <td>23:47:30</td>\n",
       "      <td>47.415833</td>\n",
       "      <td>0</td>\n",
       "      <td>2017-12-30 23:47:30</td>\n",
       "    </tr>\n",
       "    <tr>\n",
       "      <th>104830</th>\n",
       "      <td>2017-12-30</td>\n",
       "      <td>23:52:30</td>\n",
       "      <td>49.011333</td>\n",
       "      <td>0</td>\n",
       "      <td>2017-12-30 23:52:30</td>\n",
       "    </tr>\n",
       "  </tbody>\n",
       "</table>\n",
       "<p>104831 rows × 5 columns</p>\n",
       "</div>"
      ],
      "text/plain": [
       "              date      time       flow  anomaly             datetime\n",
       "0       2017-01-01  00:02:30  73.000000        0  2017-01-01 00:02:30\n",
       "1       2017-01-01  00:07:30  76.403833        0  2017-01-01 00:07:30\n",
       "2       2017-01-01  00:12:30  85.805667        0  2017-01-01 00:12:30\n",
       "3       2017-01-01  00:17:30  85.882833        0  2017-01-01 00:17:30\n",
       "4       2017-01-01  00:22:30  80.014500        0  2017-01-01 00:22:30\n",
       "...            ...       ...        ...      ...                  ...\n",
       "104826  2017-12-30  23:32:30  55.356167        0  2017-12-30 23:32:30\n",
       "104827  2017-12-30  23:37:30  53.998167        0  2017-12-30 23:37:30\n",
       "104828  2017-12-30  23:42:30  48.799167        0  2017-12-30 23:42:30\n",
       "104829  2017-12-30  23:47:30  47.415833        0  2017-12-30 23:47:30\n",
       "104830  2017-12-30  23:52:30  49.011333        0  2017-12-30 23:52:30\n",
       "\n",
       "[104831 rows x 5 columns]"
      ]
     },
     "execution_count": 19,
     "metadata": {},
     "output_type": "execute_result"
    }
   ],
   "source": [
    "# The strftime() method returns a string representing date and time using date, time or datetime object\n",
    "df['datetime'] = pd.to_datetime(df['datetime'], dayfirst=True).dt.strftime('%Y-%m-%d %H:%M:%S').astype(str)\n",
    "# Visualize data\n",
    "df"
   ]
  },
  {
   "cell_type": "code",
   "execution_count": 20,
   "metadata": {},
   "outputs": [],
   "source": [
    "df['date'] = pd.to_datetime(df['date'])\n",
    "holidays['date'] = pd.to_datetime(holidays['date'])\n",
    "#df['datetime'] = pd.to_datetime(df['datetime'])\n",
    "#holidays['date'] = pd.to_datetime(holidays['date'])"
   ]
  },
  {
   "cell_type": "code",
   "execution_count": 21,
   "metadata": {},
   "outputs": [],
   "source": [
    "df['dayofweek'] = pd.to_datetime(df['date'],dayfirst=True)\n",
    "#df['dayofweek'] = pd.to_datetime(df['datetime'],dayfirst=True)\n",
    "#df['dayofweek'] = df['dayofweek'].dt.dayofweek"
   ]
  },
  {
   "cell_type": "code",
   "execution_count": 22,
   "metadata": {},
   "outputs": [],
   "source": [
    "df.loc[df.date.isin(holidays.date), 'dayofweek'] = -1\n",
    "#df.loc[df.datetime.isin(holidays.date), 'dayofweek'] = -1"
   ]
  },
  {
   "cell_type": "code",
   "execution_count": 25,
   "metadata": {},
   "outputs": [
    {
     "data": {
      "text/html": [
       "<div>\n",
       "<style scoped>\n",
       "    .dataframe tbody tr th:only-of-type {\n",
       "        vertical-align: middle;\n",
       "    }\n",
       "\n",
       "    .dataframe tbody tr th {\n",
       "        vertical-align: top;\n",
       "    }\n",
       "\n",
       "    .dataframe thead th {\n",
       "        text-align: right;\n",
       "    }\n",
       "</style>\n",
       "<table border=\"1\" class=\"dataframe\">\n",
       "  <thead>\n",
       "    <tr style=\"text-align: right;\">\n",
       "      <th></th>\n",
       "      <th>date</th>\n",
       "      <th>time</th>\n",
       "      <th>flow</th>\n",
       "      <th>anomaly</th>\n",
       "      <th>datetime</th>\n",
       "      <th>dayofweek</th>\n",
       "    </tr>\n",
       "  </thead>\n",
       "  <tbody>\n",
       "    <tr>\n",
       "      <th>0</th>\n",
       "      <td>2017-01-01</td>\n",
       "      <td>00:02:30</td>\n",
       "      <td>73.000000</td>\n",
       "      <td>0</td>\n",
       "      <td>2017-01-01 00:02:30</td>\n",
       "      <td>-1</td>\n",
       "    </tr>\n",
       "    <tr>\n",
       "      <th>1</th>\n",
       "      <td>2017-01-01</td>\n",
       "      <td>00:07:30</td>\n",
       "      <td>76.403833</td>\n",
       "      <td>0</td>\n",
       "      <td>2017-01-01 00:07:30</td>\n",
       "      <td>-1</td>\n",
       "    </tr>\n",
       "    <tr>\n",
       "      <th>2</th>\n",
       "      <td>2017-01-01</td>\n",
       "      <td>00:12:30</td>\n",
       "      <td>85.805667</td>\n",
       "      <td>0</td>\n",
       "      <td>2017-01-01 00:12:30</td>\n",
       "      <td>-1</td>\n",
       "    </tr>\n",
       "    <tr>\n",
       "      <th>3</th>\n",
       "      <td>2017-01-01</td>\n",
       "      <td>00:17:30</td>\n",
       "      <td>85.882833</td>\n",
       "      <td>0</td>\n",
       "      <td>2017-01-01 00:17:30</td>\n",
       "      <td>-1</td>\n",
       "    </tr>\n",
       "    <tr>\n",
       "      <th>4</th>\n",
       "      <td>2017-01-01</td>\n",
       "      <td>00:22:30</td>\n",
       "      <td>80.014500</td>\n",
       "      <td>0</td>\n",
       "      <td>2017-01-01 00:22:30</td>\n",
       "      <td>-1</td>\n",
       "    </tr>\n",
       "  </tbody>\n",
       "</table>\n",
       "</div>"
      ],
      "text/plain": [
       "        date      time       flow  anomaly             datetime dayofweek\n",
       "0 2017-01-01  00:02:30  73.000000        0  2017-01-01 00:02:30        -1\n",
       "1 2017-01-01  00:07:30  76.403833        0  2017-01-01 00:07:30        -1\n",
       "2 2017-01-01  00:12:30  85.805667        0  2017-01-01 00:12:30        -1\n",
       "3 2017-01-01  00:17:30  85.882833        0  2017-01-01 00:17:30        -1\n",
       "4 2017-01-01  00:22:30  80.014500        0  2017-01-01 00:22:30        -1"
      ]
     },
     "execution_count": 25,
     "metadata": {},
     "output_type": "execute_result"
    }
   ],
   "source": [
    "df.head()"
   ]
  },
  {
   "cell_type": "code",
   "execution_count": 26,
   "metadata": {},
   "outputs": [
    {
     "data": {
      "text/plain": [
       "date         datetime64[ns]\n",
       "time                 object\n",
       "flow                float64\n",
       "anomaly               int64\n",
       "datetime             object\n",
       "dayofweek            object\n",
       "dtype: object"
      ]
     },
     "execution_count": 26,
     "metadata": {},
     "output_type": "execute_result"
    }
   ],
   "source": [
    "df.dtypes"
   ]
  },
  {
   "cell_type": "code",
   "execution_count": 27,
   "metadata": {},
   "outputs": [],
   "source": [
    "df['datetime'] = pd.DatetimeIndex(data=df['datetime'], dtype='datetime64[ns]', name='datetime', freq=None)"
   ]
  },
  {
   "cell_type": "code",
   "execution_count": 28,
   "metadata": {},
   "outputs": [],
   "source": [
    "#df_weekdays = df[(df['dayofweek']>=0) & (df['dayofweek']<=4)]\n",
    "#df_sat = df[df['dayofweek']==5]\n",
    "#df_sun = df[(df['dayofweek']==-1) | (df['dayofweek']==6)]"
   ]
  },
  {
   "cell_type": "code",
   "execution_count": 29,
   "metadata": {},
   "outputs": [
    {
     "data": {
      "text/html": [
       "<div>\n",
       "<style scoped>\n",
       "    .dataframe tbody tr th:only-of-type {\n",
       "        vertical-align: middle;\n",
       "    }\n",
       "\n",
       "    .dataframe tbody tr th {\n",
       "        vertical-align: top;\n",
       "    }\n",
       "\n",
       "    .dataframe thead th {\n",
       "        text-align: right;\n",
       "    }\n",
       "</style>\n",
       "<table border=\"1\" class=\"dataframe\">\n",
       "  <thead>\n",
       "    <tr style=\"text-align: right;\">\n",
       "      <th></th>\n",
       "      <th>flow</th>\n",
       "      <th>anomaly</th>\n",
       "    </tr>\n",
       "    <tr>\n",
       "      <th>datetime</th>\n",
       "      <th></th>\n",
       "      <th></th>\n",
       "    </tr>\n",
       "  </thead>\n",
       "  <tbody>\n",
       "    <tr>\n",
       "      <th>2017-01-01 00:00:00</th>\n",
       "      <td>76.899611</td>\n",
       "      <td>0.0</td>\n",
       "    </tr>\n",
       "    <tr>\n",
       "      <th>2017-01-01 01:00:00</th>\n",
       "      <td>98.418750</td>\n",
       "      <td>0.0</td>\n",
       "    </tr>\n",
       "    <tr>\n",
       "      <th>2017-01-01 02:00:00</th>\n",
       "      <td>40.784958</td>\n",
       "      <td>0.0</td>\n",
       "    </tr>\n",
       "    <tr>\n",
       "      <th>2017-01-01 03:00:00</th>\n",
       "      <td>48.239653</td>\n",
       "      <td>0.0</td>\n",
       "    </tr>\n",
       "    <tr>\n",
       "      <th>2017-01-01 04:00:00</th>\n",
       "      <td>60.778514</td>\n",
       "      <td>0.0</td>\n",
       "    </tr>\n",
       "    <tr>\n",
       "      <th>...</th>\n",
       "      <td>...</td>\n",
       "      <td>...</td>\n",
       "    </tr>\n",
       "    <tr>\n",
       "      <th>2017-12-30 19:00:00</th>\n",
       "      <td>59.567715</td>\n",
       "      <td>0.0</td>\n",
       "    </tr>\n",
       "    <tr>\n",
       "      <th>2017-12-30 20:00:00</th>\n",
       "      <td>35.016903</td>\n",
       "      <td>0.0</td>\n",
       "    </tr>\n",
       "    <tr>\n",
       "      <th>2017-12-30 21:00:00</th>\n",
       "      <td>49.402611</td>\n",
       "      <td>0.0</td>\n",
       "    </tr>\n",
       "    <tr>\n",
       "      <th>2017-12-30 22:00:00</th>\n",
       "      <td>44.968708</td>\n",
       "      <td>0.0</td>\n",
       "    </tr>\n",
       "    <tr>\n",
       "      <th>2017-12-30 23:00:00</th>\n",
       "      <td>52.814712</td>\n",
       "      <td>0.0</td>\n",
       "    </tr>\n",
       "  </tbody>\n",
       "</table>\n",
       "<p>8736 rows × 2 columns</p>\n",
       "</div>"
      ],
      "text/plain": [
       "                          flow  anomaly\n",
       "datetime                               \n",
       "2017-01-01 00:00:00  76.899611      0.0\n",
       "2017-01-01 01:00:00  98.418750      0.0\n",
       "2017-01-01 02:00:00  40.784958      0.0\n",
       "2017-01-01 03:00:00  48.239653      0.0\n",
       "2017-01-01 04:00:00  60.778514      0.0\n",
       "...                        ...      ...\n",
       "2017-12-30 19:00:00  59.567715      0.0\n",
       "2017-12-30 20:00:00  35.016903      0.0\n",
       "2017-12-30 21:00:00  49.402611      0.0\n",
       "2017-12-30 22:00:00  44.968708      0.0\n",
       "2017-12-30 23:00:00  52.814712      0.0\n",
       "\n",
       "[8736 rows x 2 columns]"
      ]
     },
     "execution_count": 29,
     "metadata": {},
     "output_type": "execute_result"
    }
   ],
   "source": [
    "df = df.resample('60min', on='datetime').mean()\n",
    "df"
   ]
  },
  {
   "cell_type": "code",
   "execution_count": 14,
   "metadata": {},
   "outputs": [],
   "source": [
    "#df['hour'] = pd.to_datetime(df.index,dayfirst=True)\n",
    "#df['hour'] = df['hour'].dt.hour"
   ]
  },
  {
   "cell_type": "code",
   "execution_count": 15,
   "metadata": {},
   "outputs": [
    {
     "data": {
      "text/html": [
       "<div>\n",
       "<style scoped>\n",
       "    .dataframe tbody tr th:only-of-type {\n",
       "        vertical-align: middle;\n",
       "    }\n",
       "\n",
       "    .dataframe tbody tr th {\n",
       "        vertical-align: top;\n",
       "    }\n",
       "\n",
       "    .dataframe thead th {\n",
       "        text-align: right;\n",
       "    }\n",
       "</style>\n",
       "<table border=\"1\" class=\"dataframe\">\n",
       "  <thead>\n",
       "    <tr style=\"text-align: right;\">\n",
       "      <th></th>\n",
       "      <th>flow</th>\n",
       "      <th>anomaly</th>\n",
       "      <th>dayofweek</th>\n",
       "      <th>hour</th>\n",
       "    </tr>\n",
       "    <tr>\n",
       "      <th>datetime</th>\n",
       "      <th></th>\n",
       "      <th></th>\n",
       "      <th></th>\n",
       "      <th></th>\n",
       "    </tr>\n",
       "  </thead>\n",
       "  <tbody>\n",
       "    <tr>\n",
       "      <th>2018-01-01 00:00:00</th>\n",
       "      <td>19.686438</td>\n",
       "      <td>0.0</td>\n",
       "      <td>-1.0</td>\n",
       "      <td>0</td>\n",
       "    </tr>\n",
       "    <tr>\n",
       "      <th>2018-01-01 01:00:00</th>\n",
       "      <td>26.438410</td>\n",
       "      <td>0.0</td>\n",
       "      <td>-1.0</td>\n",
       "      <td>1</td>\n",
       "    </tr>\n",
       "    <tr>\n",
       "      <th>2018-01-01 02:00:00</th>\n",
       "      <td>20.883749</td>\n",
       "      <td>0.0</td>\n",
       "      <td>-1.0</td>\n",
       "      <td>2</td>\n",
       "    </tr>\n",
       "    <tr>\n",
       "      <th>2018-01-01 03:00:00</th>\n",
       "      <td>17.249310</td>\n",
       "      <td>0.0</td>\n",
       "      <td>-1.0</td>\n",
       "      <td>3</td>\n",
       "    </tr>\n",
       "    <tr>\n",
       "      <th>2018-01-01 04:00:00</th>\n",
       "      <td>13.126283</td>\n",
       "      <td>0.0</td>\n",
       "      <td>-1.0</td>\n",
       "      <td>4</td>\n",
       "    </tr>\n",
       "    <tr>\n",
       "      <th>...</th>\n",
       "      <td>...</td>\n",
       "      <td>...</td>\n",
       "      <td>...</td>\n",
       "      <td>...</td>\n",
       "    </tr>\n",
       "    <tr>\n",
       "      <th>2018-12-31 19:00:00</th>\n",
       "      <td>35.008319</td>\n",
       "      <td>0.0</td>\n",
       "      <td>0.0</td>\n",
       "      <td>19</td>\n",
       "    </tr>\n",
       "    <tr>\n",
       "      <th>2018-12-31 20:00:00</th>\n",
       "      <td>24.399982</td>\n",
       "      <td>0.0</td>\n",
       "      <td>0.0</td>\n",
       "      <td>20</td>\n",
       "    </tr>\n",
       "    <tr>\n",
       "      <th>2018-12-31 21:00:00</th>\n",
       "      <td>22.056600</td>\n",
       "      <td>0.0</td>\n",
       "      <td>0.0</td>\n",
       "      <td>21</td>\n",
       "    </tr>\n",
       "    <tr>\n",
       "      <th>2018-12-31 22:00:00</th>\n",
       "      <td>24.098743</td>\n",
       "      <td>0.0</td>\n",
       "      <td>0.0</td>\n",
       "      <td>22</td>\n",
       "    </tr>\n",
       "    <tr>\n",
       "      <th>2018-12-31 23:00:00</th>\n",
       "      <td>21.564154</td>\n",
       "      <td>0.0</td>\n",
       "      <td>0.0</td>\n",
       "      <td>23</td>\n",
       "    </tr>\n",
       "  </tbody>\n",
       "</table>\n",
       "<p>8760 rows × 4 columns</p>\n",
       "</div>"
      ],
      "text/plain": [
       "                          flow  anomaly  dayofweek  hour\n",
       "datetime                                                \n",
       "2018-01-01 00:00:00  19.686438      0.0       -1.0     0\n",
       "2018-01-01 01:00:00  26.438410      0.0       -1.0     1\n",
       "2018-01-01 02:00:00  20.883749      0.0       -1.0     2\n",
       "2018-01-01 03:00:00  17.249310      0.0       -1.0     3\n",
       "2018-01-01 04:00:00  13.126283      0.0       -1.0     4\n",
       "...                        ...      ...        ...   ...\n",
       "2018-12-31 19:00:00  35.008319      0.0        0.0    19\n",
       "2018-12-31 20:00:00  24.399982      0.0        0.0    20\n",
       "2018-12-31 21:00:00  22.056600      0.0        0.0    21\n",
       "2018-12-31 22:00:00  24.098743      0.0        0.0    22\n",
       "2018-12-31 23:00:00  21.564154      0.0        0.0    23\n",
       "\n",
       "[8760 rows x 4 columns]"
      ]
     },
     "execution_count": 15,
     "metadata": {},
     "output_type": "execute_result"
    }
   ],
   "source": [
    "#df"
   ]
  },
  {
   "cell_type": "code",
   "execution_count": 16,
   "metadata": {},
   "outputs": [],
   "source": [
    "# sns.set_theme(style=\"whitegrid\")"
   ]
  },
  {
   "cell_type": "code",
   "execution_count": 19,
   "metadata": {},
   "outputs": [
    {
     "data": {
      "image/png": "[encoded data removed]",
      "text/plain": [
       "<Figure size 432x288 with 1 Axes>"
      ]
     },
     "metadata": {
      "needs_background": "light"
     },
     "output_type": "display_data"
    }
   ],
   "source": [
    "#plt.figure(figsize=(15,7))\n",
    "ax = sns.boxplot(x=\"hour\", y=\"flow\", color=\"black\", data=df)"
   ]
  },
  {
   "cell_type": "code",
   "execution_count": 21,
   "metadata": {},
   "outputs": [
    {
     "data": {
      "text/plain": [
       "Text(0.5, 0, 'Time (h)')"
      ]
     },
     "execution_count": 21,
     "metadata": {},
     "output_type": "execute_result"
    },
    {
     "data": {
      "image/png": "[encoded data removed]",
      "text/plain": [
       "<Figure size 1008x360 with 1 Axes>"
      ]
     },
     "metadata": {
      "needs_background": "light"
     },
     "output_type": "display_data"
    }
   ],
   "source": [
    "plt.figure(figsize=(14,5))\n",
    "ax = sns.boxplot(x=\"hour\", y=\"flow\", color=\"black\", data=df)\n",
    "ax.set_title('Hourly Boxplots')\n",
    "ax.set_ylabel('Flow rate ($m^3s^{-1}$)')\n",
    "ax.set_xlabel('Time (h)')"
   ]
  },
  {
   "cell_type": "code",
   "execution_count": 27,
   "metadata": {},
   "outputs": [
    {
     "data": {
      "text/plain": [
       "Text(0.5, 0, 'Time (h)')"
      ]
     },
     "execution_count": 27,
     "metadata": {},
     "output_type": "execute_result"
    },
    {
     "data": {
      "image/png": "[encoded data removed]",
      "text/plain": [
       "<Figure size 720x288 with 1 Axes>"
      ]
     },
     "metadata": {
      "needs_background": "light"
     },
     "output_type": "display_data"
    }
   ],
   "source": [
    "plt.figure(figsize=(10,4))\n",
    "ax = sns.boxplot(x=\"hour\", y=\"flow\", color=\"red\", data=df)\n",
    "ax.set_title('Hourly Boxplots')\n",
    "ax.set_ylabel('Flow rate ($m^3s^{-1}$)')\n",
    "ax.set_xlabel('Time (h)')"
   ]
  },
  {
   "cell_type": "code",
   "execution_count": 43,
   "metadata": {},
   "outputs": [
    {
     "data": {
      "text/plain": [
       "Text(0.5, 0, 'Time (h)')"
      ]
     },
     "execution_count": 43,
     "metadata": {},
     "output_type": "execute_result"
    },
    {
     "data": {
      "image/png": "[encoded data removed]",
      "text/plain": [
       "<Figure size 720x288 with 1 Axes>"
      ]
     },
     "metadata": {
      "needs_background": "light"
     },
     "output_type": "display_data"
    }
   ],
   "source": [
    "plt.figure(figsize=(10,4))\n",
    "ax = sns.boxplot(x=\"hour\", y=\"flow\", color=\"dodgerblue\", data=df)\n",
    "ax.set_title('Hourly Boxplots')\n",
    "ax.set_ylabel('Flow rate ($m^3s^{-1}$)')\n",
    "ax.set_xlabel('Time (h)')"
   ]
  },
  {
   "cell_type": "code",
   "execution_count": 48,
   "metadata": {},
   "outputs": [
    {
     "data": {
      "text/plain": [
       "Text(0.5, 0, 'Time (h)')"
      ]
     },
     "execution_count": 48,
     "metadata": {},
     "output_type": "execute_result"
    },
    {
     "data": {
      "image/png": "[encoded data removed]",
      "text/plain": [
       "<Figure size 792x360 with 1 Axes>"
      ]
     },
     "metadata": {
      "needs_background": "light"
     },
     "output_type": "display_data"
    }
   ],
   "source": [
    "plt.figure(figsize=(11,5))\n",
    "ax = sns.boxplot(x=\"hour\", y=\"flow\", color=\"dodgerblue\", data=df)\n",
    "ax.set_title('Hourly Boxplots')\n",
    "ax.set_ylabel('Flow rate ($m^3s^{-1}$)')\n",
    "ax.set_xlabel('Time (h)')"
   ]
  },
  {
   "cell_type": "code",
   "execution_count": 30,
   "metadata": {},
   "outputs": [
    {
     "data": {
      "text/plain": [
       "Text(0.5, 0, 'Time (h)')"
      ]
     },
     "execution_count": 30,
     "metadata": {},
     "output_type": "execute_result"
    },
    {
     "data": {
      "image/png": "[encoded data removed]",
      "text/plain": [
       "<Figure size 792x360 with 1 Axes>"
      ]
     },
     "metadata": {
      "needs_background": "light"
     },
     "output_type": "display_data"
    }
   ],
   "source": [
    "plt.figure(figsize=(11,5))\n",
    "ax = sns.boxplot(x=df.index.hour, y=\"flow\", color=\"dodgerblue\", data=df)\n",
    "ax.set_title('Hourly Boxplots')\n",
    "ax.set_ylabel('Flow rate ($m^3s^{-1}$)')\n",
    "ax.set_xlabel('Time (h)')"
   ]
  },
  {
   "cell_type": "code",
   "execution_count": null,
   "metadata": {},
   "outputs": [],
   "source": []
  }
 ],
 "metadata": {
  "kernelspec": {
   "display_name": "Python 3",
   "language": "python",
   "name": "python3"
  },
  "language_info": {
   "codemirror_mode": {
    "name": "ipython",
    "version": 3
   },
   "file_extension": ".py",
   "mimetype": "text/x-python",
   "name": "python",
   "nbconvert_exporter": "python",
   "pygments_lexer": "ipython3",
   "version": "3.8.3"
  }
 },
 "nbformat": 4,
 "nbformat_minor": 4
}
