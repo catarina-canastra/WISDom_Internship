{
 "cells": [
  {
   "cell_type": "code",
   "execution_count": 2,
   "metadata": {},
   "outputs": [],
   "source": [
    "import pandas as pd\n",
    "import glob\n",
    "\n",
    "path = r'C:\\Users\\Catarina\\Documents\\WISDom_Internship\\WISDom_InternshipCode\\WISDom_Internship\\Processes_Datasets\\Original\\Concat' # use your path\n",
    "all_files = glob.glob(path + \"/*.csv\")\n",
    "\n",
    "li = []\n",
    "\n",
    "for filename in all_files:\n",
    "    df = pd.read_csv(filename, index_col=None, header=0)\n",
    "    li.append(df)\n",
    "\n",
    "frame = pd.concat(li, axis=0, ignore_index=True)"
   ]
  },
  {
   "cell_type": "code",
   "execution_count": 3,
   "metadata": {},
   "outputs": [
    {
     "data": {
      "text/html": [
       "<div>\n",
       "<style scoped>\n",
       "    .dataframe tbody tr th:only-of-type {\n",
       "        vertical-align: middle;\n",
       "    }\n",
       "\n",
       "    .dataframe tbody tr th {\n",
       "        vertical-align: top;\n",
       "    }\n",
       "\n",
       "    .dataframe thead th {\n",
       "        text-align: right;\n",
       "    }\n",
       "</style>\n",
       "<table border=\"1\" class=\"dataframe\">\n",
       "  <thead>\n",
       "    <tr style=\"text-align: right;\">\n",
       "      <th></th>\n",
       "      <th>date</th>\n",
       "      <th>value</th>\n",
       "    </tr>\n",
       "  </thead>\n",
       "  <tbody>\n",
       "    <tr>\n",
       "      <th>0</th>\n",
       "      <td>2017-01-01 00:02:30</td>\n",
       "      <td>73.000000</td>\n",
       "    </tr>\n",
       "    <tr>\n",
       "      <th>1</th>\n",
       "      <td>2017-01-01 00:07:30</td>\n",
       "      <td>76.403833</td>\n",
       "    </tr>\n",
       "    <tr>\n",
       "      <th>2</th>\n",
       "      <td>2017-01-01 00:12:30</td>\n",
       "      <td>85.805667</td>\n",
       "    </tr>\n",
       "    <tr>\n",
       "      <th>3</th>\n",
       "      <td>2017-01-01 00:17:30</td>\n",
       "      <td>85.882833</td>\n",
       "    </tr>\n",
       "    <tr>\n",
       "      <th>4</th>\n",
       "      <td>2017-01-01 00:22:30</td>\n",
       "      <td>80.014500</td>\n",
       "    </tr>\n",
       "    <tr>\n",
       "      <th>...</th>\n",
       "      <td>...</td>\n",
       "      <td>...</td>\n",
       "    </tr>\n",
       "    <tr>\n",
       "      <th>104826</th>\n",
       "      <td>2017-12-30 23:32:30</td>\n",
       "      <td>55.356167</td>\n",
       "    </tr>\n",
       "    <tr>\n",
       "      <th>104827</th>\n",
       "      <td>2017-12-30 23:37:30</td>\n",
       "      <td>53.998167</td>\n",
       "    </tr>\n",
       "    <tr>\n",
       "      <th>104828</th>\n",
       "      <td>2017-12-30 23:42:30</td>\n",
       "      <td>48.799167</td>\n",
       "    </tr>\n",
       "    <tr>\n",
       "      <th>104829</th>\n",
       "      <td>2017-12-30 23:47:30</td>\n",
       "      <td>47.415833</td>\n",
       "    </tr>\n",
       "    <tr>\n",
       "      <th>104830</th>\n",
       "      <td>2017-12-30 23:52:30</td>\n",
       "      <td>49.011333</td>\n",
       "    </tr>\n",
       "  </tbody>\n",
       "</table>\n",
       "<p>104831 rows × 2 columns</p>\n",
       "</div>"
      ],
      "text/plain": [
       "                       date      value\n",
       "0       2017-01-01 00:02:30  73.000000\n",
       "1       2017-01-01 00:07:30  76.403833\n",
       "2       2017-01-01 00:12:30  85.805667\n",
       "3       2017-01-01 00:17:30  85.882833\n",
       "4       2017-01-01 00:22:30  80.014500\n",
       "...                     ...        ...\n",
       "104826  2017-12-30 23:32:30  55.356167\n",
       "104827  2017-12-30 23:37:30  53.998167\n",
       "104828  2017-12-30 23:42:30  48.799167\n",
       "104829  2017-12-30 23:47:30  47.415833\n",
       "104830  2017-12-30 23:52:30  49.011333\n",
       "\n",
       "[104831 rows x 2 columns]"
      ]
     },
     "execution_count": 3,
     "metadata": {},
     "output_type": "execute_result"
    }
   ],
   "source": [
    "frame"
   ]
  },
  {
   "cell_type": "code",
   "execution_count": 4,
   "metadata": {},
   "outputs": [],
   "source": [
    "frame.to_csv(\"IQ2017_CS4.csv\", index=False)"
   ]
  }
 ],
 "metadata": {
  "kernelspec": {
   "display_name": "Python 3",
   "language": "python",
   "name": "python3"
  },
  "language_info": {
   "codemirror_mode": {
    "name": "ipython",
    "version": 3
   },
   "file_extension": ".py",
   "mimetype": "text/x-python",
   "name": "python",
   "nbconvert_exporter": "python",
   "pygments_lexer": "ipython3",
   "version": "3.8.3"
  }
 },
 "nbformat": 4,
 "nbformat_minor": 4
}
