{
 "cells": [
  {
   "cell_type": "markdown",
   "metadata": {},
   "source": [
    "## Time series forecasting with Random Forest (Regression), in the context of WISDom project\n",
    "\n",
    "### Testing SVR approach in Random Forest algorithm\n",
    "\n",
    "#### Data:\n",
    "    1. Flow Rate Data from a sensor in a Water Sypply System located in Barreiro\n",
    "    2. Holidays since 1970 to 2029 (+ 3 regional holidays of 2018)"
   ]
  },
  {
   "cell_type": "markdown",
   "metadata": {},
   "source": [
    "## Libraries and Packages"
   ]
  },
  {
   "cell_type": "code",
   "execution_count": 1,
   "metadata": {},
   "outputs": [],
   "source": [
    "import pandas as pd\n",
    "import numpy as np\n",
    "import matplotlib.pyplot as plt\n",
    "from sklearn.ensemble import RandomForestRegressor\n",
    "from sklearn.model_selection import train_test_split\n",
    "from sklearn.metrics import mean_squared_error"
   ]
  },
  {
   "cell_type": "code",
   "execution_count": 2,
   "metadata": {},
   "outputs": [],
   "source": [
    "#global variables\n",
    "D=10 #how many lagged values to consider\n",
    "min_date_train='2018-04-01'\n",
    "max_date_train='2018-05-31'\n",
    "min_date_predict='2018-06-01'\n",
    "max_date_predict='2018-06-30'"
   ]
  },
  {
   "cell_type": "markdown",
   "metadata": {},
   "source": [
    "## Loading data"
   ]
  },
  {
   "cell_type": "code",
   "execution_count": 3,
   "metadata": {},
   "outputs": [
    {
     "data": {
      "text/html": [
       "<div>\n",
       "<style scoped>\n",
       "    .dataframe tbody tr th:only-of-type {\n",
       "        vertical-align: middle;\n",
       "    }\n",
       "\n",
       "    .dataframe tbody tr th {\n",
       "        vertical-align: top;\n",
       "    }\n",
       "\n",
       "    .dataframe thead th {\n",
       "        text-align: right;\n",
       "    }\n",
       "</style>\n",
       "<table border=\"1\" class=\"dataframe\">\n",
       "  <thead>\n",
       "    <tr style=\"text-align: right;\">\n",
       "      <th></th>\n",
       "      <th>date</th>\n",
       "      <th>time</th>\n",
       "      <th>flow</th>\n",
       "      <th>anomaly</th>\n",
       "    </tr>\n",
       "  </thead>\n",
       "  <tbody>\n",
       "    <tr>\n",
       "      <th>0</th>\n",
       "      <td>01/01/2018</td>\n",
       "      <td>00:07:30</td>\n",
       "      <td>18.333067</td>\n",
       "      <td>0</td>\n",
       "    </tr>\n",
       "    <tr>\n",
       "      <th>1</th>\n",
       "      <td>01/01/2018</td>\n",
       "      <td>00:22:30</td>\n",
       "      <td>18.333067</td>\n",
       "      <td>0</td>\n",
       "    </tr>\n",
       "    <tr>\n",
       "      <th>2</th>\n",
       "      <td>01/01/2018</td>\n",
       "      <td>00:37:30</td>\n",
       "      <td>19.784872</td>\n",
       "      <td>0</td>\n",
       "    </tr>\n",
       "    <tr>\n",
       "      <th>3</th>\n",
       "      <td>01/01/2018</td>\n",
       "      <td>00:52:30</td>\n",
       "      <td>22.294744</td>\n",
       "      <td>0</td>\n",
       "    </tr>\n",
       "    <tr>\n",
       "      <th>4</th>\n",
       "      <td>01/01/2018</td>\n",
       "      <td>01:07:30</td>\n",
       "      <td>27.229756</td>\n",
       "      <td>0</td>\n",
       "    </tr>\n",
       "    <tr>\n",
       "      <th>...</th>\n",
       "      <td>...</td>\n",
       "      <td>...</td>\n",
       "      <td>...</td>\n",
       "      <td>...</td>\n",
       "    </tr>\n",
       "    <tr>\n",
       "      <th>35035</th>\n",
       "      <td>31/12/2018</td>\n",
       "      <td>22:52:30</td>\n",
       "      <td>24.792000</td>\n",
       "      <td>0</td>\n",
       "    </tr>\n",
       "    <tr>\n",
       "      <th>35036</th>\n",
       "      <td>31/12/2018</td>\n",
       "      <td>23:07:30</td>\n",
       "      <td>23.029933</td>\n",
       "      <td>0</td>\n",
       "    </tr>\n",
       "    <tr>\n",
       "      <th>35037</th>\n",
       "      <td>31/12/2018</td>\n",
       "      <td>23:22:30</td>\n",
       "      <td>20.415628</td>\n",
       "      <td>0</td>\n",
       "    </tr>\n",
       "    <tr>\n",
       "      <th>35038</th>\n",
       "      <td>31/12/2018</td>\n",
       "      <td>23:37:30</td>\n",
       "      <td>22.019056</td>\n",
       "      <td>0</td>\n",
       "    </tr>\n",
       "    <tr>\n",
       "      <th>35039</th>\n",
       "      <td>31/12/2018</td>\n",
       "      <td>23:52:30</td>\n",
       "      <td>20.792000</td>\n",
       "      <td>0</td>\n",
       "    </tr>\n",
       "  </tbody>\n",
       "</table>\n",
       "<p>35040 rows × 4 columns</p>\n",
       "</div>"
      ],
      "text/plain": [
       "             date      time       flow  anomaly\n",
       "0      01/01/2018  00:07:30  18.333067        0\n",
       "1      01/01/2018  00:22:30  18.333067        0\n",
       "2      01/01/2018  00:37:30  19.784872        0\n",
       "3      01/01/2018  00:52:30  22.294744        0\n",
       "4      01/01/2018  01:07:30  27.229756        0\n",
       "...           ...       ...        ...      ...\n",
       "35035  31/12/2018  22:52:30  24.792000        0\n",
       "35036  31/12/2018  23:07:30  23.029933        0\n",
       "35037  31/12/2018  23:22:30  20.415628        0\n",
       "35038  31/12/2018  23:37:30  22.019056        0\n",
       "35039  31/12/2018  23:52:30  20.792000        0\n",
       "\n",
       "[35040 rows x 4 columns]"
      ]
     },
     "execution_count": 3,
     "metadata": {},
     "output_type": "execute_result"
    }
   ],
   "source": [
    "header = [\"date\",\"time\",\"flow\",\"anomaly\"]\n",
    "df = pd.read_csv('barreiro_ano.csv', sep=';', names=header)\n",
    "df"
   ]
  },
  {
   "cell_type": "code",
   "execution_count": 4,
   "metadata": {},
   "outputs": [],
   "source": [
    "#convert column to date time\n",
    "df['date'] = pd.to_datetime(df['date'])"
   ]
  },
  {
   "cell_type": "code",
   "execution_count": 5,
   "metadata": {},
   "outputs": [],
   "source": [
    "# to extract all unique values (time) present in dataframe\n",
    "time_unique_val=df.time.unique()"
   ]
  },
  {
   "cell_type": "code",
   "execution_count": 6,
   "metadata": {},
   "outputs": [
    {
     "data": {
      "text/plain": [
       "96"
      ]
     },
     "execution_count": 6,
     "metadata": {},
     "output_type": "execute_result"
    }
   ],
   "source": [
    "# in order to accept time series with different periods per day\n",
    "periods_per_day=len(time_unique_val)\n",
    "periods_per_day"
   ]
  },
  {
   "cell_type": "code",
   "execution_count": 7,
   "metadata": {},
   "outputs": [],
   "source": [
    "# to create an array with all these indexes\n",
    "time_unique_ind=np.arange(periods_per_day)"
   ]
  },
  {
   "cell_type": "code",
   "execution_count": 8,
   "metadata": {},
   "outputs": [
    {
     "data": {
      "text/html": [
       "<div>\n",
       "<style scoped>\n",
       "    .dataframe tbody tr th:only-of-type {\n",
       "        vertical-align: middle;\n",
       "    }\n",
       "\n",
       "    .dataframe tbody tr th {\n",
       "        vertical-align: top;\n",
       "    }\n",
       "\n",
       "    .dataframe thead th {\n",
       "        text-align: right;\n",
       "    }\n",
       "</style>\n",
       "<table border=\"1\" class=\"dataframe\">\n",
       "  <thead>\n",
       "    <tr style=\"text-align: right;\">\n",
       "      <th></th>\n",
       "      <th>time</th>\n",
       "      <th>time_unique_ind</th>\n",
       "    </tr>\n",
       "  </thead>\n",
       "  <tbody>\n",
       "    <tr>\n",
       "      <th>0</th>\n",
       "      <td>00:07:30</td>\n",
       "      <td>0</td>\n",
       "    </tr>\n",
       "    <tr>\n",
       "      <th>1</th>\n",
       "      <td>00:22:30</td>\n",
       "      <td>1</td>\n",
       "    </tr>\n",
       "    <tr>\n",
       "      <th>2</th>\n",
       "      <td>00:37:30</td>\n",
       "      <td>2</td>\n",
       "    </tr>\n",
       "    <tr>\n",
       "      <th>3</th>\n",
       "      <td>00:52:30</td>\n",
       "      <td>3</td>\n",
       "    </tr>\n",
       "    <tr>\n",
       "      <th>4</th>\n",
       "      <td>01:07:30</td>\n",
       "      <td>4</td>\n",
       "    </tr>\n",
       "    <tr>\n",
       "      <th>...</th>\n",
       "      <td>...</td>\n",
       "      <td>...</td>\n",
       "    </tr>\n",
       "    <tr>\n",
       "      <th>91</th>\n",
       "      <td>22:52:30</td>\n",
       "      <td>91</td>\n",
       "    </tr>\n",
       "    <tr>\n",
       "      <th>92</th>\n",
       "      <td>23:07:30</td>\n",
       "      <td>92</td>\n",
       "    </tr>\n",
       "    <tr>\n",
       "      <th>93</th>\n",
       "      <td>23:22:30</td>\n",
       "      <td>93</td>\n",
       "    </tr>\n",
       "    <tr>\n",
       "      <th>94</th>\n",
       "      <td>23:37:30</td>\n",
       "      <td>94</td>\n",
       "    </tr>\n",
       "    <tr>\n",
       "      <th>95</th>\n",
       "      <td>23:52:30</td>\n",
       "      <td>95</td>\n",
       "    </tr>\n",
       "  </tbody>\n",
       "</table>\n",
       "<p>96 rows × 2 columns</p>\n",
       "</div>"
      ],
      "text/plain": [
       "        time  time_unique_ind\n",
       "0   00:07:30                0\n",
       "1   00:22:30                1\n",
       "2   00:37:30                2\n",
       "3   00:52:30                3\n",
       "4   01:07:30                4\n",
       "..       ...              ...\n",
       "91  22:52:30               91\n",
       "92  23:07:30               92\n",
       "93  23:22:30               93\n",
       "94  23:37:30               94\n",
       "95  23:52:30               95\n",
       "\n",
       "[96 rows x 2 columns]"
      ]
     },
     "execution_count": 8,
     "metadata": {},
     "output_type": "execute_result"
    }
   ],
   "source": [
    "#in order to have a mapping between the time of day and its index\n",
    "time_unique=pd.DataFrame({'time':time_unique_val, 'time_unique_ind':time_unique_ind})\n",
    "time_unique"
   ]
  },
  {
   "cell_type": "code",
   "execution_count": 9,
   "metadata": {},
   "outputs": [],
   "source": [
    "#creates a column with the time index\n",
    "df['time_ind'] = df['time'].map(time_unique.set_index('time')['time_unique_ind'])"
   ]
  },
  {
   "cell_type": "code",
   "execution_count": 10,
   "metadata": {},
   "outputs": [],
   "source": [
    "#extra column indicating day of week\n",
    "#0: mon, 1:tue, ..., 5:sat, 6:sun\n",
    "df['dayofweek'] = pd.to_datetime(df['date'],dayfirst=True)\n",
    "df['dayofweek'] = df['dayofweek'].dt.dayofweek"
   ]
  },
  {
   "cell_type": "code",
   "execution_count": 11,
   "metadata": {},
   "outputs": [],
   "source": [
    "holidays = pd.read_csv('holidays2018.csv',sep=';')\n",
    "holidays['date'] = pd.to_datetime(holidays['date'])"
   ]
  },
  {
   "cell_type": "code",
   "execution_count": 12,
   "metadata": {},
   "outputs": [],
   "source": [
    "# if day is a holiday, then dayofweek is -1\n",
    "df.loc[df.date.isin(holidays.date), 'dayofweek'] = -1"
   ]
  },
  {
   "cell_type": "markdown",
   "metadata": {},
   "source": [
    "## Lags of time series"
   ]
  },
  {
   "cell_type": "markdown",
   "metadata": {},
   "source": [
    "### n previous readings"
   ]
  },
  {
   "cell_type": "code",
   "execution_count": 13,
   "metadata": {},
   "outputs": [],
   "source": [
    "# in order to construct a new dataframe with D lagged values\n",
    "df_lagged = df.copy()\n",
    "number_lags = D # this is D (a global variable - check top of notebook)\n",
    "\n",
    "for i in range(1, number_lags+1):\n",
    "    shifted = df['flow'].shift(i)\n",
    "    df_lagged = pd.concat((df_lagged, shifted), axis=1)"
   ]
  },
  {
   "cell_type": "code",
   "execution_count": 14,
   "metadata": {},
   "outputs": [],
   "source": [
    "# just to label the columns of the resulting dataframe\n",
    "lagged_cols=[\"n-\"+ str(x) for x in range(1,number_lags+1)]\n",
    "colnames= [\"date\",\"time\",\"flow\",\"anomaly\", \"time_ind\",\"dayofweek\"]+lagged_cols\n",
    "df_lagged.columns=colnames"
   ]
  },
  {
   "cell_type": "code",
   "execution_count": 15,
   "metadata": {},
   "outputs": [],
   "source": [
    "# in order to drop the rows corresponding do the first day\n",
    "#to get rid of the NaN values\n",
    "df_lagged =  df_lagged.iloc[periods_per_day:]"
   ]
  },
  {
   "cell_type": "code",
   "execution_count": 16,
   "metadata": {},
   "outputs": [],
   "source": [
    "#df_weekdays: contains data related to weekdays \n",
    "#df_sat: contains data related to saturdays\n",
    "#df_sun: contains data related to sundays and holidays\n",
    "df_weekdays = df_lagged[(df_lagged['dayofweek']>=0) & (df_lagged['dayofweek']<=4)]\n",
    "df_sat = df_lagged[df_lagged['dayofweek']==5]\n",
    "df_sun = df_lagged[(df_lagged['dayofweek']==-1) | (df_lagged['dayofweek']==6)]"
   ]
  },
  {
   "cell_type": "code",
   "execution_count": 17,
   "metadata": {},
   "outputs": [],
   "source": [
    "#get data to train a particular period (first of the day, eg)\n",
    "'''\n",
    "to create a dataframe that can be used to train a model\n",
    "we should choose a range of dates (min_date, max_date)\n",
    "a typeofdate ('weekdays', 'saturdays', 'sundays' (this one includes holidays))\n",
    "and a period of the day (time_ind that can range from 0 to periods_per_day)\n",
    "'''\n",
    "def create_data_for_model(min_date, max_date, typeofday, time_ind):\n",
    "    if typeofday=='weekdays':\n",
    "        sel_data=df_weekdays[(df_weekdays.date>=min_date) & (df_weekdays.date<=max_date)]\n",
    "    elif typeofday=='saturdays':\n",
    "        sel_data=df_sat[(df_sat.date>=min_date) & (df_sat.date<=max_date)]\n",
    "    else:\n",
    "        sel_data=df_sun[(df_sun.date>=min_date) & (df_sun.date<=max_date)]\n",
    "    sel_data=sel_data[sel_data['time_ind']==time_ind]\n",
    "    return sel_data"
   ]
  },
  {
   "cell_type": "code",
   "execution_count": 18,
   "metadata": {},
   "outputs": [],
   "source": [
    "#an example, just to test\n",
    "data=create_data_for_model('2018-01-01', '2018-01-30', 'weekdays', 0)\n",
    "#data"
   ]
  },
  {
   "cell_type": "code",
   "execution_count": 19,
   "metadata": {},
   "outputs": [],
   "source": [
    "y=data['flow'].copy()\n",
    "X=data.iloc[:,6:] #contains only the D previous values"
   ]
  },
  {
   "cell_type": "markdown",
   "metadata": {},
   "source": [
    "## Random Forest model"
   ]
  },
  {
   "cell_type": "code",
   "execution_count": 21,
   "metadata": {},
   "outputs": [],
   "source": [
    "\"\"\"\n",
    "data: dataframe containing data for a specific type of day and \n",
    "for a specific time_ind\n",
    "\"\"\"\n",
    "def rf_model(X,y):\n",
    "    # 70% train, 30% test\n",
    "    X_train, X_test, y_train, y_test = train_test_split(X,y, test_size=0.3)\n",
    "    # in order to fetch the parameter values\n",
    "    rf_model = RandomForestRegressor(n_estimators=100)\n",
    "    rf_model.fit(X_train, y_train)\n",
    "    return rf_model"
   ]
  },
  {
   "cell_type": "code",
   "execution_count": 22,
   "metadata": {},
   "outputs": [],
   "source": [
    "# creates a model for each period for weekdays\n",
    "# for  a min_date-max_date range\n",
    "# the result is a dataframe with as many rows as periods_per_day\n",
    "# each containing a regressor\n",
    "def creates_regressors_weekdays(min_date, max_date):\n",
    "    regressors_weekdays = []\n",
    "    \n",
    "    for i in range(periods_per_day):\n",
    "        data=create_data_for_model(min_date, max_date, 'weekdays', i)\n",
    "        regressors_weekdays.append(rf_model(X,y))\n",
    "    return regressors_weekdays"
   ]
  },
  {
   "cell_type": "code",
   "execution_count": 23,
   "metadata": {},
   "outputs": [],
   "source": [
    "# creates a model for each period for saturdays\n",
    "# for  a min_date-max_date range\n",
    "# the result is a dataframe with as many rows as periods_per_day\n",
    "# each containing a regressor\n",
    "def creates_regressors_saturdays(min_date, max_date):\n",
    "    regressors_saturdays = []\n",
    "    \n",
    "    for i in range(periods_per_day):\n",
    "        data=create_data_for_model(min_date, max_date, 'weekdays', i)\n",
    "        regressors_saturdays.append(rf_model(X,y))\n",
    "    return regressors_saturdays"
   ]
  },
  {
   "cell_type": "code",
   "execution_count": 24,
   "metadata": {},
   "outputs": [],
   "source": [
    "# creates a model for each period for sundays and holidays\n",
    "# for  a min_date-max_date range\n",
    "# the result is a dataframe with as many rows as periods_per_day\n",
    "# each containing a regressor\n",
    "def creates_regressors_sundays(min_date, max_date):\n",
    "    regressors_sundays = []\n",
    "    \n",
    "    for i in range(periods_per_day):\n",
    "        data=create_data_for_model(min_date, max_date, 'weekdays', i)\n",
    "        regressors_sundays.append(rf_model(X,y))\n",
    "    return regressors_sundays"
   ]
  },
  {
   "cell_type": "code",
   "execution_count": 25,
   "metadata": {},
   "outputs": [],
   "source": [
    "def predict_flow(df):\n",
    "    predictions=[]\n",
    "    for i in range(len(df)):\n",
    "        if ((df.iloc[i,5]>=0) and (df.iloc[i,5] <=4)):\n",
    "            model=regressors_weekdays[df.iloc[i,4]]\n",
    "            predictions.append(model.predict(df.iloc[i:i+1,6:]))\n",
    "        elif (df.iloc[i,5]==5): # i.e. saturdays\n",
    "            model=regressors_saturdays[df.iloc[i,4]]\n",
    "            predictions.append(model.predict(df.iloc[i:i+1,6:]))\n",
    "        else: #i.e., sundays and holidays\n",
    "            model=regressors_sundays[df.iloc[i,4]]\n",
    "            predictions.append(model.predict(df.iloc[i:i+1,6:]))\n",
    "      \n",
    "    return predictions"
   ]
  },
  {
   "cell_type": "code",
   "execution_count": 26,
   "metadata": {},
   "outputs": [],
   "source": [
    "# for testing, we will use 2018-01-01 to 2018-01-31 for\n",
    "# constructing regressors\n",
    "regressors_weekdays=creates_regressors_weekdays(min_date_train, max_date_train)\n",
    "regressors_saturdays=creates_regressors_saturdays(min_date_train, max_date_train)\n",
    "regressors_sundays=creates_regressors_weekdays(min_date_train, max_date_train)"
   ]
  },
  {
   "cell_type": "code",
   "execution_count": 27,
   "metadata": {},
   "outputs": [],
   "source": [
    "df2predict=df_lagged[(df_lagged.date>=min_date_predict) & (df_lagged.date<=max_date_predict)]"
   ]
  },
  {
   "cell_type": "code",
   "execution_count": 28,
   "metadata": {},
   "outputs": [],
   "source": [
    "predictions=predict_flow(df2predict)"
   ]
  },
  {
   "cell_type": "code",
   "execution_count": 29,
   "metadata": {},
   "outputs": [],
   "source": [
    "real=df2predict['flow']\n",
    "real_1d=real[0:periods_per_day] # to look at 1 day"
   ]
  },
  {
   "cell_type": "code",
   "execution_count": 30,
   "metadata": {},
   "outputs": [],
   "source": [
    "predictions_1d=predictions[0:periods_per_day]"
   ]
  },
  {
   "cell_type": "code",
   "execution_count": 31,
   "metadata": {},
   "outputs": [
    {
     "data": {
      "image/png": "[encoded data removed]",
      "text/plain": [
       "<Figure size 432x288 with 1 Axes>"
      ]
     },
     "metadata": {
      "needs_background": "light"
     },
     "output_type": "display_data"
    },
    {
     "name": "stdout",
     "output_type": "stream",
     "text": [
      "RBF model Test MSE: 77.040\n"
     ]
    }
   ],
   "source": [
    "x = np.linspace(0,len(predictions_1d),len(predictions_1d)) \n",
    "plt.plot(x,predictions_1d,label='predicted with RF')\n",
    "plt.plot(x,real_1d, label='real value')\n",
    "plt.xlabel('time (in periods of 15 min)')\n",
    "plt.ylabel('water flow')\n",
    "plt.title(\"Comparing real and predicted values for 1 day (2018-02-01)\")\n",
    "plt.legend()\n",
    "plt.show()\n",
    "\n",
    "# evaluation metrics\n",
    "error = mean_squared_error(real_1d, predictions_1d)\n",
    "result= print('RBF model Test MSE: %.3f' % error)\n",
    "result"
   ]
  },
  {
   "cell_type": "code",
   "execution_count": 32,
   "metadata": {},
   "outputs": [],
   "source": [
    "real_7d=real[0:periods_per_day*7] # to look at 7 day\n",
    "predictions_7d=predictions[0:periods_per_day*7]"
   ]
  },
  {
   "cell_type": "code",
   "execution_count": 33,
   "metadata": {},
   "outputs": [
    {
     "data": {
      "image/png": "[encoded data removed]",
      "text/plain": [
       "<Figure size 432x288 with 1 Axes>"
      ]
     },
     "metadata": {
      "needs_background": "light"
     },
     "output_type": "display_data"
    },
    {
     "name": "stdout",
     "output_type": "stream",
     "text": [
      "RBF model Test MSE: 139.577\n"
     ]
    }
   ],
   "source": [
    "x = np.linspace(0,len(predictions_7d),len(predictions_7d)) \n",
    "plt.plot(x,predictions_7d,label='predicted with RF')\n",
    "plt.plot(x,real_7d, label='real value')\n",
    "plt.xlabel('time (in periods of 15 min)')\n",
    "plt.ylabel('water flow')\n",
    "plt.title(\"Comparing real and predicted values for 7 days (starting 2018-02-01)\")\n",
    "plt.legend()\n",
    "plt.show()\n",
    "\n",
    "# evaluation metrics\n",
    "error = mean_squared_error(real_7d, predictions_7d)\n",
    "result= print('RBF model Test MSE: %.3f' % error)\n",
    "result"
   ]
  }
 ],
 "metadata": {
  "kernelspec": {
   "display_name": "Python 3",
   "language": "python",
   "name": "python3"
  },
  "language_info": {
   "codemirror_mode": {
    "name": "ipython",
    "version": 3
   },
   "file_extension": ".py",
   "mimetype": "text/x-python",
   "name": "python",
   "nbconvert_exporter": "python",
   "pygments_lexer": "ipython3",
   "version": "3.8.5"
  }
 },
 "nbformat": 4,
 "nbformat_minor": 4
}
