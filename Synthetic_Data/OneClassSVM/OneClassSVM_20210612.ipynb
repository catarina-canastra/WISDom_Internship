{
 "cells": [
  {
   "cell_type": "markdown",
   "metadata": {},
   "source": [
    "## Anomaly Detection in Univariate Time Series with OneClassSVM, in the context of WISDom project\n",
    "\n",
    "#### Data:\n",
    "    1. Flow Rate Data from a sensor in a Water Sypply System located in Barreiro\n",
    "    2. Holidays since 1970 to 2029 (+ 3 regional holidays of 2018)"
   ]
  },
  {
   "cell_type": "markdown",
   "metadata": {},
   "source": [
    "### Libraries and Packages"
   ]
  },
  {
   "cell_type": "code",
   "execution_count": 1,
   "metadata": {},
   "outputs": [],
   "source": [
    "# basics\n",
    "import pandas as pd\n",
    "import numpy as np\n",
    "from datetime import datetime as dt\n",
    "# for graphics\n",
    "import matplotlib.pyplot as plt\n",
    "import seaborn as sns; sns.set()\n",
    "# algorithm\n",
    "from sklearn import svm"
   ]
  },
  {
   "cell_type": "markdown",
   "metadata": {},
   "source": [
    "### Load dataset"
   ]
  },
  {
   "cell_type": "code",
   "execution_count": 2,
   "metadata": {},
   "outputs": [],
   "source": [
    "features = [\"date\",\"time\",\"flow\",\"anomaly\"]\n",
    "df = pd.read_csv('barreiro_ano.csv', sep=';', names=features)\n",
    "holidays = pd.read_csv('holidays2018.csv',sep=';')"
   ]
  },
  {
   "cell_type": "markdown",
   "metadata": {},
   "source": [
    "### Basic dataset changes"
   ]
  },
  {
   "cell_type": "code",
   "execution_count": 5,
   "metadata": {},
   "outputs": [],
   "source": [
    "# convert column to datetime\n",
    "df['date'] = pd.to_datetime(df['date'])\n",
    "holidays['date'] = pd.to_datetime(holidays['date'])"
   ]
  },
  {
   "cell_type": "code",
   "execution_count": 6,
   "metadata": {},
   "outputs": [],
   "source": [
    "# extra column indicating day of week\n",
    "# 0: mon, 1:tue, ..., 5:sat, 6:sun\n",
    "df['dayofweek'] = pd.to_datetime(df['date'],dayfirst=True)\n",
    "df['dayofweek'] = df['dayofweek'].dt.dayofweek"
   ]
  },
  {
   "cell_type": "code",
   "execution_count": 7,
   "metadata": {},
   "outputs": [],
   "source": [
    "# if day is a holiday, then dayofweek is -1\n",
    "df.loc[df.date.isin(holidays.date), 'dayofweek'] = -1"
   ]
  },
  {
   "cell_type": "code",
   "execution_count": 8,
   "metadata": {},
   "outputs": [],
   "source": [
    "# returns the day count from the date\n",
    "df['date'] = pd.to_datetime(df['date'])\n",
    "df['date']=df['date'].map(dt.toordinal)"
   ]
  },
  {
   "cell_type": "code",
   "execution_count": 9,
   "metadata": {},
   "outputs": [
    {
     "data": {
      "text/html": [
       "<div>\n",
       "<style scoped>\n",
       "    .dataframe tbody tr th:only-of-type {\n",
       "        vertical-align: middle;\n",
       "    }\n",
       "\n",
       "    .dataframe tbody tr th {\n",
       "        vertical-align: top;\n",
       "    }\n",
       "\n",
       "    .dataframe thead th {\n",
       "        text-align: right;\n",
       "    }\n",
       "</style>\n",
       "<table border=\"1\" class=\"dataframe\">\n",
       "  <thead>\n",
       "    <tr style=\"text-align: right;\">\n",
       "      <th></th>\n",
       "      <th>date</th>\n",
       "      <th>time</th>\n",
       "      <th>flow</th>\n",
       "      <th>anomaly</th>\n",
       "      <th>dayofweek</th>\n",
       "    </tr>\n",
       "  </thead>\n",
       "  <tbody>\n",
       "    <tr>\n",
       "      <th>0</th>\n",
       "      <td>736695</td>\n",
       "      <td>00:07:30</td>\n",
       "      <td>18.333067</td>\n",
       "      <td>0</td>\n",
       "      <td>-1</td>\n",
       "    </tr>\n",
       "    <tr>\n",
       "      <th>1</th>\n",
       "      <td>736695</td>\n",
       "      <td>00:22:30</td>\n",
       "      <td>18.333067</td>\n",
       "      <td>0</td>\n",
       "      <td>-1</td>\n",
       "    </tr>\n",
       "    <tr>\n",
       "      <th>2</th>\n",
       "      <td>736695</td>\n",
       "      <td>00:37:30</td>\n",
       "      <td>19.784872</td>\n",
       "      <td>0</td>\n",
       "      <td>-1</td>\n",
       "    </tr>\n",
       "    <tr>\n",
       "      <th>3</th>\n",
       "      <td>736695</td>\n",
       "      <td>00:52:30</td>\n",
       "      <td>22.294744</td>\n",
       "      <td>0</td>\n",
       "      <td>-1</td>\n",
       "    </tr>\n",
       "    <tr>\n",
       "      <th>4</th>\n",
       "      <td>736695</td>\n",
       "      <td>01:07:30</td>\n",
       "      <td>27.229756</td>\n",
       "      <td>0</td>\n",
       "      <td>-1</td>\n",
       "    </tr>\n",
       "    <tr>\n",
       "      <th>...</th>\n",
       "      <td>...</td>\n",
       "      <td>...</td>\n",
       "      <td>...</td>\n",
       "      <td>...</td>\n",
       "      <td>...</td>\n",
       "    </tr>\n",
       "    <tr>\n",
       "      <th>35035</th>\n",
       "      <td>737059</td>\n",
       "      <td>22:52:30</td>\n",
       "      <td>24.792000</td>\n",
       "      <td>0</td>\n",
       "      <td>0</td>\n",
       "    </tr>\n",
       "    <tr>\n",
       "      <th>35036</th>\n",
       "      <td>737059</td>\n",
       "      <td>23:07:30</td>\n",
       "      <td>23.029933</td>\n",
       "      <td>0</td>\n",
       "      <td>0</td>\n",
       "    </tr>\n",
       "    <tr>\n",
       "      <th>35037</th>\n",
       "      <td>737059</td>\n",
       "      <td>23:22:30</td>\n",
       "      <td>20.415628</td>\n",
       "      <td>0</td>\n",
       "      <td>0</td>\n",
       "    </tr>\n",
       "    <tr>\n",
       "      <th>35038</th>\n",
       "      <td>737059</td>\n",
       "      <td>23:37:30</td>\n",
       "      <td>22.019056</td>\n",
       "      <td>0</td>\n",
       "      <td>0</td>\n",
       "    </tr>\n",
       "    <tr>\n",
       "      <th>35039</th>\n",
       "      <td>737059</td>\n",
       "      <td>23:52:30</td>\n",
       "      <td>20.792000</td>\n",
       "      <td>0</td>\n",
       "      <td>0</td>\n",
       "    </tr>\n",
       "  </tbody>\n",
       "</table>\n",
       "<p>35040 rows × 5 columns</p>\n",
       "</div>"
      ],
      "text/plain": [
       "         date      time       flow  anomaly  dayofweek\n",
       "0      736695  00:07:30  18.333067        0         -1\n",
       "1      736695  00:22:30  18.333067        0         -1\n",
       "2      736695  00:37:30  19.784872        0         -1\n",
       "3      736695  00:52:30  22.294744        0         -1\n",
       "4      736695  01:07:30  27.229756        0         -1\n",
       "...       ...       ...        ...      ...        ...\n",
       "35035  737059  22:52:30  24.792000        0          0\n",
       "35036  737059  23:07:30  23.029933        0          0\n",
       "35037  737059  23:22:30  20.415628        0          0\n",
       "35038  737059  23:37:30  22.019056        0          0\n",
       "35039  737059  23:52:30  20.792000        0          0\n",
       "\n",
       "[35040 rows x 5 columns]"
      ]
     },
     "execution_count": 9,
     "metadata": {},
     "output_type": "execute_result"
    }
   ],
   "source": [
    "df"
   ]
  },
  {
   "cell_type": "markdown",
   "metadata": {},
   "source": [
    "### Time in indexes"
   ]
  },
  {
   "cell_type": "code",
   "execution_count": 10,
   "metadata": {},
   "outputs": [],
   "source": [
    "# to extract all unique values (time) present in dataframe\n",
    "time_unique_val=df.time.unique()\n",
    "# in order to accept time series with different periods per day\n",
    "periods_per_day=len(time_unique_val)\n",
    "time_unique_ind=np.arange(periods_per_day)\n",
    "#in order to have a mapping between the time of day and its index\n",
    "time_unique=pd.DataFrame({'time':time_unique_val, 'time_unique_ind':time_unique_ind})\n",
    "#creates a column with the time index\n",
    "df['time'] = df['time'].map(time_unique.set_index('time')['time_unique_ind'])"
   ]
  },
  {
   "cell_type": "code",
   "execution_count": 11,
   "metadata": {},
   "outputs": [
    {
     "data": {
      "text/html": [
       "<div>\n",
       "<style scoped>\n",
       "    .dataframe tbody tr th:only-of-type {\n",
       "        vertical-align: middle;\n",
       "    }\n",
       "\n",
       "    .dataframe tbody tr th {\n",
       "        vertical-align: top;\n",
       "    }\n",
       "\n",
       "    .dataframe thead th {\n",
       "        text-align: right;\n",
       "    }\n",
       "</style>\n",
       "<table border=\"1\" class=\"dataframe\">\n",
       "  <thead>\n",
       "    <tr style=\"text-align: right;\">\n",
       "      <th></th>\n",
       "      <th>date</th>\n",
       "      <th>time</th>\n",
       "      <th>flow</th>\n",
       "      <th>anomaly</th>\n",
       "      <th>dayofweek</th>\n",
       "    </tr>\n",
       "  </thead>\n",
       "  <tbody>\n",
       "    <tr>\n",
       "      <th>0</th>\n",
       "      <td>736695</td>\n",
       "      <td>0</td>\n",
       "      <td>18.333067</td>\n",
       "      <td>0</td>\n",
       "      <td>-1</td>\n",
       "    </tr>\n",
       "    <tr>\n",
       "      <th>1</th>\n",
       "      <td>736695</td>\n",
       "      <td>1</td>\n",
       "      <td>18.333067</td>\n",
       "      <td>0</td>\n",
       "      <td>-1</td>\n",
       "    </tr>\n",
       "    <tr>\n",
       "      <th>2</th>\n",
       "      <td>736695</td>\n",
       "      <td>2</td>\n",
       "      <td>19.784872</td>\n",
       "      <td>0</td>\n",
       "      <td>-1</td>\n",
       "    </tr>\n",
       "    <tr>\n",
       "      <th>3</th>\n",
       "      <td>736695</td>\n",
       "      <td>3</td>\n",
       "      <td>22.294744</td>\n",
       "      <td>0</td>\n",
       "      <td>-1</td>\n",
       "    </tr>\n",
       "    <tr>\n",
       "      <th>4</th>\n",
       "      <td>736695</td>\n",
       "      <td>4</td>\n",
       "      <td>27.229756</td>\n",
       "      <td>0</td>\n",
       "      <td>-1</td>\n",
       "    </tr>\n",
       "    <tr>\n",
       "      <th>...</th>\n",
       "      <td>...</td>\n",
       "      <td>...</td>\n",
       "      <td>...</td>\n",
       "      <td>...</td>\n",
       "      <td>...</td>\n",
       "    </tr>\n",
       "    <tr>\n",
       "      <th>35035</th>\n",
       "      <td>737059</td>\n",
       "      <td>91</td>\n",
       "      <td>24.792000</td>\n",
       "      <td>0</td>\n",
       "      <td>0</td>\n",
       "    </tr>\n",
       "    <tr>\n",
       "      <th>35036</th>\n",
       "      <td>737059</td>\n",
       "      <td>92</td>\n",
       "      <td>23.029933</td>\n",
       "      <td>0</td>\n",
       "      <td>0</td>\n",
       "    </tr>\n",
       "    <tr>\n",
       "      <th>35037</th>\n",
       "      <td>737059</td>\n",
       "      <td>93</td>\n",
       "      <td>20.415628</td>\n",
       "      <td>0</td>\n",
       "      <td>0</td>\n",
       "    </tr>\n",
       "    <tr>\n",
       "      <th>35038</th>\n",
       "      <td>737059</td>\n",
       "      <td>94</td>\n",
       "      <td>22.019056</td>\n",
       "      <td>0</td>\n",
       "      <td>0</td>\n",
       "    </tr>\n",
       "    <tr>\n",
       "      <th>35039</th>\n",
       "      <td>737059</td>\n",
       "      <td>95</td>\n",
       "      <td>20.792000</td>\n",
       "      <td>0</td>\n",
       "      <td>0</td>\n",
       "    </tr>\n",
       "  </tbody>\n",
       "</table>\n",
       "<p>35040 rows × 5 columns</p>\n",
       "</div>"
      ],
      "text/plain": [
       "         date  time       flow  anomaly  dayofweek\n",
       "0      736695     0  18.333067        0         -1\n",
       "1      736695     1  18.333067        0         -1\n",
       "2      736695     2  19.784872        0         -1\n",
       "3      736695     3  22.294744        0         -1\n",
       "4      736695     4  27.229756        0         -1\n",
       "...       ...   ...        ...      ...        ...\n",
       "35035  737059    91  24.792000        0          0\n",
       "35036  737059    92  23.029933        0          0\n",
       "35037  737059    93  20.415628        0          0\n",
       "35038  737059    94  22.019056        0          0\n",
       "35039  737059    95  20.792000        0          0\n",
       "\n",
       "[35040 rows x 5 columns]"
      ]
     },
     "execution_count": 11,
     "metadata": {},
     "output_type": "execute_result"
    }
   ],
   "source": [
    "df"
   ]
  },
  {
   "cell_type": "markdown",
   "metadata": {},
   "source": [
    "### Divide dataset on two labels"
   ]
  },
  {
   "cell_type": "code",
   "execution_count": 13,
   "metadata": {},
   "outputs": [],
   "source": [
    "nor_obs = df.loc[df.anomaly==0]\n",
    "ano_obs = df.loc[df.anomaly==1]"
   ]
  },
  {
   "cell_type": "markdown",
   "metadata": {},
   "source": [
    "### Train and test sets"
   ]
  },
  {
   "cell_type": "code",
   "execution_count": 14,
   "metadata": {},
   "outputs": [],
   "source": [
    "# OneClassSVM is trained with the observations of only one class.\n",
    "# So, the algorithm is trained with normal observations == 0.\n",
    "# The training observation is merged with the anomalous observations to create a test set.\n",
    "train_feature = nor_obs.loc[0:20000, :].drop('anomaly', 1)"
   ]
  },
  {
   "cell_type": "code",
   "execution_count": 15,
   "metadata": {},
   "outputs": [],
   "source": [
    "# to create test observations/features\n",
    "X_test_1 = nor_obs.loc[20000:, :].drop('anomaly', 1)\n",
    "X_test_2 = ano_obs.drop('anomaly', 1)\n",
    "X_test = X_test_1.append(X_test_2)"
   ]
  },
  {
   "cell_type": "code",
   "execution_count": 16,
   "metadata": {},
   "outputs": [],
   "source": [
    "Y_test_1 = nor_obs.loc[20000:, 'anomaly']\n",
    "Y_test_2 = ano_obs['anomaly']\n",
    "Y_test = Y_test_1.append(Y_test_2)"
   ]
  },
  {
   "cell_type": "markdown",
   "metadata": {},
   "source": [
    "### OneClassSVM model"
   ]
  },
  {
   "cell_type": "code",
   "execution_count": 17,
   "metadata": {},
   "outputs": [],
   "source": [
    "# setting the hyperparameters for Once Class SVM\n",
    "oneclass = svm.OneClassSVM(kernel='linear', gamma=0.001, nu=0.95)"
   ]
  },
  {
   "cell_type": "code",
   "execution_count": 21,
   "metadata": {},
   "outputs": [
    {
     "data": {
      "text/plain": [
       "OneClassSVM(gamma=0.001, kernel='linear', nu=0.95)"
      ]
     },
     "execution_count": 21,
     "metadata": {},
     "output_type": "execute_result"
    }
   ],
   "source": [
    "# training model\n",
    "oneclass.fit(train_feature)"
   ]
  },
  {
   "cell_type": "code",
   "execution_count": 22,
   "metadata": {},
   "outputs": [],
   "source": [
    "# test the algorithm on the test set\n",
    "anomaly_pred = oneclass.predict(X_test)"
   ]
  },
  {
   "cell_type": "code",
   "execution_count": 23,
   "metadata": {},
   "outputs": [
    {
     "name": "stdout",
     "output_type": "stream",
     "text": [
      "[[   -1 10567]\n",
      " [    1  4512]]\n"
     ]
    }
   ],
   "source": [
    "# check the number of outliers predicted by the algorithm\n",
    "unique, counts = np.unique(anomaly_pred, return_counts=True)\n",
    "print (np.asarray((unique, counts)).T)"
   ]
  },
  {
   "cell_type": "code",
   "execution_count": 24,
   "metadata": {},
   "outputs": [],
   "source": [
    "# convert Y-test and anomaly_pred to dataframe for ease of operation\n",
    "Y_test= Y_test.to_frame()\n",
    "Y_test=Y_test.reset_index()\n",
    "anomaly_pred = pd.DataFrame(anomaly_pred)\n",
    "anomaly_pred= anomaly_pred.rename(columns={0: 'prediction'})"
   ]
  },
  {
   "cell_type": "code",
   "execution_count": 26,
   "metadata": {},
   "outputs": [
    {
     "name": "stdout",
     "output_type": "stream",
     "text": [
      "4466 10528 46 39\n"
     ]
    }
   ],
   "source": [
    "# performance check of the model\n",
    "TP = FN = FP = TN = 0\n",
    "for j in range(len(Y_test)):\n",
    "    if Y_test['anomaly'][j]== 0 and anomaly_pred['prediction'][j] == 1:\n",
    "        TP = TP+1\n",
    "    elif Y_test['anomaly'][j]== 0 and anomaly_pred['prediction'][j] == -1:\n",
    "        FN = FN+1\n",
    "    elif Y_test['anomaly'][j]== 1 and anomaly_pred['prediction'][j] == 1:\n",
    "        FP = FP+1\n",
    "    else:\n",
    "        TN = TN +1\n",
    "print (TP,  FN,  FP,  TN)"
   ]
  },
  {
   "cell_type": "code",
   "execution_count": 27,
   "metadata": {},
   "outputs": [
    {
     "name": "stdout",
     "output_type": "stream",
     "text": [
      "0.2987598647125141\n",
      "0.29785247432306255\n",
      "0.4588235294117647\n"
     ]
    }
   ],
   "source": [
    "# performance Matrix\n",
    "accuracy = (TP+TN)/(TP+FN+FP+TN)\n",
    "print (accuracy)\n",
    "sensitivity = TP/(TP+FN)\n",
    "print (sensitivity)\n",
    "specificity = TN/(TN+FP)\n",
    "print (specificity)"
   ]
  },
  {
   "cell_type": "markdown",
   "metadata": {},
   "source": [
    "One class SVM has shown unpromising performance for this dataset, with near 30% anomaly detection and many false alarms."
   ]
  }
 ],
 "metadata": {
  "kernelspec": {
   "display_name": "Python 3",
   "language": "python",
   "name": "python3"
  },
  "language_info": {
   "codemirror_mode": {
    "name": "ipython",
    "version": 3
   },
   "file_extension": ".py",
   "mimetype": "text/x-python",
   "name": "python",
   "nbconvert_exporter": "python",
   "pygments_lexer": "ipython3",
   "version": "3.8.5"
  }
 },
 "nbformat": 4,
 "nbformat_minor": 4
}
