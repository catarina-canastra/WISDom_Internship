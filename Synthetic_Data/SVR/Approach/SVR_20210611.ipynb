{
 "cells": [
  {
   "cell_type": "markdown",
   "metadata": {},
   "source": [
    "## Libraries and Packages"
   ]
  },
  {
   "cell_type": "code",
   "execution_count": 1,
   "metadata": {},
   "outputs": [],
   "source": [
    "import pandas as pd\n",
    "import numpy as np\n",
    "import matplotlib.pyplot as plt\n",
    "from sklearn import svm\n",
    "from sklearn.model_selection import train_test_split\n",
    "from sklearn.model_selection import GridSearchCV\n",
    "from sklearn.model_selection import KFold\n",
    "from sklearn.metrics import make_scorer\n",
    "from sklearn.metrics import mean_squared_error"
   ]
  },
  {
   "cell_type": "markdown",
   "metadata": {},
   "source": [
    "## Global variables"
   ]
  },
  {
   "cell_type": "code",
   "execution_count": 2,
   "metadata": {},
   "outputs": [],
   "source": [
    "#global variables\n",
    "min_date_train='2018-01-01'\n",
    "max_date_train='2018-01-31'\n",
    "min_date_predict='2018-02-01'\n",
    "max_date_predict='2018-02-28'"
   ]
  },
  {
   "cell_type": "markdown",
   "metadata": {},
   "source": [
    "## Loading data"
   ]
  },
  {
   "cell_type": "code",
   "execution_count": 3,
   "metadata": {},
   "outputs": [],
   "source": [
    "features = [\"date\",\"time\",\"flow\",\"anomaly\"]\n",
    "df = pd.read_csv('barreiro_ano.csv', sep=';', names=features)\n",
    "holidays = pd.read_csv('holidays2018.csv',sep=';')"
   ]
  },
  {
   "cell_type": "markdown",
   "metadata": {},
   "source": [
    "## Dataset changes"
   ]
  },
  {
   "cell_type": "code",
   "execution_count": 4,
   "metadata": {},
   "outputs": [],
   "source": [
    "#convert column to date time\n",
    "df['date'] = pd.to_datetime(df['date'])\n",
    "holidays['date'] = pd.to_datetime(holidays['date'])"
   ]
  },
  {
   "cell_type": "code",
   "execution_count": 5,
   "metadata": {},
   "outputs": [],
   "source": [
    "#extra column indicating day of week\n",
    "#0: mon, 1:tue, ..., 5:sat, 6:sun\n",
    "df['dayofweek'] = pd.to_datetime(df['date'],dayfirst=True)\n",
    "df['dayofweek'] = df['dayofweek'].dt.dayofweek"
   ]
  },
  {
   "cell_type": "code",
   "execution_count": 6,
   "metadata": {},
   "outputs": [],
   "source": [
    "# if day is a holiday, then dayofweek is -1\n",
    "df.loc[df.date.isin(holidays.date), 'dayofweek'] = -1"
   ]
  },
  {
   "cell_type": "markdown",
   "metadata": {},
   "source": [
    "## Time in indexes"
   ]
  },
  {
   "cell_type": "code",
   "execution_count": 7,
   "metadata": {},
   "outputs": [],
   "source": [
    "'''\n",
    "to transform the time in indexes\n",
    "'''\n",
    "#def time_in_indexes(df):\n",
    "\n",
    "# to extract all unique values (time) present in dataframe\n",
    "time_unique_val=df.time.unique()\n",
    "# in order to accept time series with different periods per day\n",
    "periods_per_day=len(time_unique_val)\n",
    "time_unique_ind=np.arange(periods_per_day)\n",
    "#in order to have a mapping between the time of day and its index\n",
    "time_unique=pd.DataFrame({'time':time_unique_val, 'time_unique_ind':time_unique_ind})\n",
    "#creates a column with the time index\n",
    "df['time_ind'] = df['time'].map(time_unique.set_index('time')['time_unique_ind'])\n",
    "\n",
    "#    return df"
   ]
  },
  {
   "cell_type": "markdown",
   "metadata": {},
   "source": [
    "## Lags of time series"
   ]
  },
  {
   "cell_type": "code",
   "execution_count": 8,
   "metadata": {},
   "outputs": [],
   "source": [
    "'''\n",
    "to transform a time series data into a supervised learning problem\n",
    "'''\n",
    "def lags_time_series(df,D):\n",
    "    df_lagged=df.copy()\n",
    "    number_lags=D\n",
    "    for i in range(1, number_lags+1):\n",
    "        shifted=df['flow'].shift(i)\n",
    "        df_lagged=pd.concat((df_lagged, shifted), axis=1)\n",
    "    # just to label the columns of the resulting dataframe\n",
    "    lagged_cols=[\"n-\"+ str(x) for x in range(1,number_lags+1)]\n",
    "    colnames= [\"date\",\"time\",\"flow\",\"anomaly\", \"time_ind\",\"dayofweek\"]+lagged_cols\n",
    "    df_lagged.columns=colnames\n",
    "    # in order to drop the rows corresponding do the first day\n",
    "    #to get rid of the NaN values\n",
    "    df_lagged =  df_lagged.iloc[periods_per_day:]\n",
    "    return df_lagged"
   ]
  },
  {
   "cell_type": "code",
   "execution_count": 9,
   "metadata": {},
   "outputs": [],
   "source": [
    "df_lagged=lags_time_series(df,10)"
   ]
  },
  {
   "cell_type": "code",
   "execution_count": 10,
   "metadata": {},
   "outputs": [],
   "source": [
    "#df_weekdays: contains data related to weekdays \n",
    "#df_sat: contains data related to saturdays\n",
    "#df_sun: contains data related to sundays and holidays\n",
    "df_weekdays = df_lagged[(df_lagged['dayofweek']>=0) & (df_lagged['dayofweek']<=4)]\n",
    "df_sat = df_lagged[df_lagged['dayofweek']==5]\n",
    "df_sun = df_lagged[(df_lagged['dayofweek']==-1) | (df_lagged['dayofweek']==6)]"
   ]
  },
  {
   "cell_type": "markdown",
   "metadata": {},
   "source": [
    "## Create data"
   ]
  },
  {
   "cell_type": "code",
   "execution_count": 11,
   "metadata": {},
   "outputs": [],
   "source": [
    "#get data to train a particular period (first of the day, eg)\n",
    "'''\n",
    "to create a dataframe that can be used to train a model\n",
    "we should choose a range of dates (min_date, max_date)\n",
    "a typeofdate ('weekdays', 'saturdays', 'sundays' (this one includes holidays))\n",
    "and a period of the day (time_ind that can range from 0 to periods_per_day)\n",
    "'''\n",
    "def create_data_for_model(min_date, max_date, typeofday, time_ind):\n",
    "    if typeofday=='weekdays':\n",
    "        sel_data=df_weekdays[(df_weekdays.date>=min_date) & (df_weekdays.date<=max_date)]\n",
    "    elif typeofday=='saturdays':\n",
    "        sel_data=df_sat[(df_sat.date>=min_date) & (df_sat.date<=max_date)]\n",
    "    else:\n",
    "        sel_data=df_sun[(df_sun.date>=min_date) & (df_sun.date<=max_date)]\n",
    "        sel_data=sel_data[sel_data['time_ind']==time_ind]\n",
    "    return sel_data"
   ]
  },
  {
   "cell_type": "markdown",
   "metadata": {},
   "source": [
    "Porque temos de especificar as datas, se no inicio do script temos 4 variáveis com as mesmas?"
   ]
  },
  {
   "cell_type": "code",
   "execution_count": 12,
   "metadata": {},
   "outputs": [],
   "source": [
    "#an example, just to test\n",
    "data=create_data_for_model('2018-01-01', '2018-01-31', 'weekdays', 0)\n",
    "#data"
   ]
  },
  {
   "cell_type": "code",
   "execution_count": 13,
   "metadata": {},
   "outputs": [],
   "source": [
    "y=data['flow'].copy()\n",
    "X=data.iloc[:,6:] #contains only the D previous values"
   ]
  },
  {
   "cell_type": "markdown",
   "metadata": {},
   "source": [
    "## GridSearchCV"
   ]
  },
  {
   "cell_type": "code",
   "execution_count": 14,
   "metadata": {},
   "outputs": [],
   "source": [
    "# to look for the best SVR parameters\n",
    "'''\n",
    "to get the best set of parameters for the SVR model\n",
    "'''\n",
    "def grid_search(X,y):\n",
    "    # SVR model\n",
    "    model=svm.SVR()\n",
    "    # dict of parameters\n",
    "    parameters={'kernel':['rbf'], 'gamma':['auto','scale'], 'C':[0.1, 1, 10]} # 'epsilon':[0.01,0.05,0.5,1]\n",
    "    # strategy to evaluate the performance of the cross-validated mode on the test set\n",
    "    scorer=make_scorer(mean_squared_error, greater_is_better=False)\n",
    "    # Build and fit the GridSearchCV\n",
    "    grid = GridSearchCV(estimator=model, param_grid=parameters, scoring=scorer, cv=KFold(n_splits=5))\n",
    "    grid_results = grid.fit(X, y)\n",
    "    # in order to return the best set of parameters\n",
    "    best_param=grid_results.cv_results_['params'][grid_results.best_index_]   \n",
    "    return best_param"
   ]
  },
  {
   "cell_type": "code",
   "execution_count": 15,
   "metadata": {},
   "outputs": [
    {
     "data": {
      "text/plain": [
       "{'C': 10, 'gamma': 'scale', 'kernel': 'rbf'}"
      ]
     },
     "execution_count": 15,
     "metadata": {},
     "output_type": "execute_result"
    }
   ],
   "source": [
    "# just to test\n",
    "params=[]\n",
    "params=grid_search(X,y)\n",
    "params"
   ]
  },
  {
   "cell_type": "markdown",
   "metadata": {},
   "source": [
    "## SVR model"
   ]
  },
  {
   "cell_type": "code",
   "execution_count": 16,
   "metadata": {},
   "outputs": [],
   "source": [
    "\"\"\"\n",
    "data: dataframe containing data for a specific type of day and \n",
    "for a specific time_ind\n",
    "\"\"\"\n",
    "def svr_model(X,y,params,epsilon):\n",
    "    # 70% train, 30% test\n",
    "    X_train, X_test, y_train, y_test = train_test_split(X,y, test_size=0.3)\n",
    "    # in order to fetch the parameter values\n",
    "    svr_model = svm.SVR(C=params['C'], epsilon=epsilon, gamma=params['gamma'], kernel=params['kernel'])\n",
    "    svr_model.fit(X_train, y_train)\n",
    "    return svr_model"
   ]
  },
  {
   "cell_type": "markdown",
   "metadata": {},
   "source": [
    "## Regressors"
   ]
  },
  {
   "cell_type": "code",
   "execution_count": 17,
   "metadata": {},
   "outputs": [],
   "source": [
    "# creates a model for each period for weekdays\n",
    "# for  a min_date-max_date range\n",
    "# the result is a dataframe with as many rows as periods_per_day\n",
    "# each containing a regressor\n",
    "def creates_regressors_weekdays(min_date, max_date):\n",
    "    regressors_weekdays = []\n",
    "    \n",
    "    for i in range(periods_per_day):\n",
    "        data=create_data_for_model(min_date, max_date, 'weekdays', i)\n",
    "        epsilon=data['flow'].std()*0.5\n",
    "        regressors_weekdays.append(svr_model(X,y,params,epsilon))\n",
    "    return regressors_weekdays"
   ]
  },
  {
   "cell_type": "markdown",
   "metadata": {},
   "source": [
    "Porque é que o regressor de sábados e domingos está como weekdays em 'data'?"
   ]
  },
  {
   "cell_type": "code",
   "execution_count": 18,
   "metadata": {},
   "outputs": [],
   "source": [
    "# creates a model for each period for saturdays\n",
    "# for  a min_date-max_date range\n",
    "# the result is a dataframe with as many rows as periods_per_day\n",
    "# each containing a regressor\n",
    "def creates_regressors_saturdays(min_date, max_date):\n",
    "    regressors_saturdays = []\n",
    "    \n",
    "    for i in range(periods_per_day):\n",
    "        data=create_data_for_model(min_date, max_date, 'weekdays', i)\n",
    "        epsilon=data['flow'].std()*0.5\n",
    "        regressors_saturdays.append(svr_model(X,y,params,epsilon))\n",
    "    return regressors_saturdays"
   ]
  },
  {
   "cell_type": "code",
   "execution_count": 19,
   "metadata": {},
   "outputs": [],
   "source": [
    "# creates a model for each period for sundays and holidays\n",
    "# for  a min_date-max_date range\n",
    "# the result is a dataframe with as many rows as periods_per_day\n",
    "# each containing a regressor\n",
    "def creates_regressors_sundays(min_date, max_date):\n",
    "    regressors_sundays = []\n",
    "    \n",
    "    for i in range(periods_per_day):\n",
    "        data=create_data_for_model(min_date, max_date, 'weekdays', i)\n",
    "        epsilon=data['flow'].std()*0.5\n",
    "        regressors_sundays.append(svr_model(X,y,params,epsilon))\n",
    "    return regressors_sundays"
   ]
  },
  {
   "cell_type": "code",
   "execution_count": 20,
   "metadata": {},
   "outputs": [],
   "source": [
    "# for testing, we will use 2018-01-01 to 2018-01-31 for\n",
    "# constructing regressors\n",
    "regressors_weekdays=creates_regressors_weekdays(min_date_train, max_date_train)\n",
    "regressors_saturdays=creates_regressors_saturdays(min_date_train, max_date_train)\n",
    "regressors_sundays=creates_regressors_weekdays(min_date_train, max_date_train)"
   ]
  },
  {
   "cell_type": "markdown",
   "metadata": {},
   "source": [
    "## Standard deviation"
   ]
  },
  {
   "cell_type": "code",
   "execution_count": 21,
   "metadata": {},
   "outputs": [],
   "source": [
    "def creates_std_sets(min_date, max_date, regressor):\n",
    "    std=[]\n",
    "    if regressor=='weekdays':\n",
    "        for i in range(periods_per_day):\n",
    "            data=create_data_for_model(min_date,max_date, 'weekdays', i)\n",
    "            std.append(data['flow'].std())\n",
    "    if regressor=='saturdays':\n",
    "        for i in range(periods_per_day):\n",
    "            data=create_data_for_model(min_date,max_date, 'saturdays', i)\n",
    "            std.append(data['flow'].std())\n",
    "    else:\n",
    "        for i in range(periods_per_day):\n",
    "            data=create_data_for_model(min_date,max_date, 'sundays', i)\n",
    "            std.append(data['flow'].std())\n",
    "    return std"
   ]
  },
  {
   "cell_type": "code",
   "execution_count": 22,
   "metadata": {},
   "outputs": [],
   "source": [
    "std_weekdays=creates_std_sets(min_date_train, max_date_train,'weekdays')\n",
    "std_saturdays=creates_std_sets(min_date_train, max_date_train,'saturdays')\n",
    "std_sundays=creates_std_sets(min_date_train, max_date_train,'sundays')"
   ]
  },
  {
   "cell_type": "markdown",
   "metadata": {},
   "source": [
    "## Forecasting"
   ]
  },
  {
   "cell_type": "code",
   "execution_count": 23,
   "metadata": {},
   "outputs": [],
   "source": [
    "def predict_flow(df):\n",
    "    predictions=[]\n",
    "    for i in range(len(df)):\n",
    "        if ((df.iloc[i,5]>=0) and (df.iloc[i,5] <=4)):\n",
    "            model=regressors_weekdays[df.iloc[i,4]]\n",
    "            predictions.append(model.predict(df.iloc[i:i+1,6:]))\n",
    "        elif (df.iloc[i,5]==5): # i.e. saturdays\n",
    "            model=regressors_saturdays[df.iloc[i,4]]\n",
    "            predictions.append(model.predict(df.iloc[i:i+1,6:]))\n",
    "        else: #i.e., sundays and holidays\n",
    "            model=regressors_sundays[df.iloc[i,4]]\n",
    "            predictions.append(model.predict(df.iloc[i:i+1,6:]))\n",
    "      \n",
    "    return predictions"
   ]
  },
  {
   "cell_type": "code",
   "execution_count": 24,
   "metadata": {},
   "outputs": [],
   "source": [
    "df2predict=df_lagged[(df_lagged.date>=min_date_predict) & (df_lagged.date<=max_date_predict)]"
   ]
  },
  {
   "cell_type": "code",
   "execution_count": 29,
   "metadata": {},
   "outputs": [
    {
     "data": {
      "text/html": [
       "<div>\n",
       "<style scoped>\n",
       "    .dataframe tbody tr th:only-of-type {\n",
       "        vertical-align: middle;\n",
       "    }\n",
       "\n",
       "    .dataframe tbody tr th {\n",
       "        vertical-align: top;\n",
       "    }\n",
       "\n",
       "    .dataframe thead th {\n",
       "        text-align: right;\n",
       "    }\n",
       "</style>\n",
       "<table border=\"1\" class=\"dataframe\">\n",
       "  <thead>\n",
       "    <tr style=\"text-align: right;\">\n",
       "      <th></th>\n",
       "      <th>date</th>\n",
       "      <th>time</th>\n",
       "      <th>flow</th>\n",
       "      <th>anomaly</th>\n",
       "      <th>time_ind</th>\n",
       "      <th>dayofweek</th>\n",
       "      <th>n-1</th>\n",
       "      <th>n-2</th>\n",
       "      <th>n-3</th>\n",
       "      <th>n-4</th>\n",
       "      <th>n-5</th>\n",
       "      <th>n-6</th>\n",
       "      <th>n-7</th>\n",
       "      <th>n-8</th>\n",
       "      <th>n-9</th>\n",
       "      <th>n-10</th>\n",
       "    </tr>\n",
       "  </thead>\n",
       "  <tbody>\n",
       "    <tr>\n",
       "      <th>96</th>\n",
       "      <td>2018-02-01</td>\n",
       "      <td>00:07:30</td>\n",
       "      <td>15.008750</td>\n",
       "      <td>0</td>\n",
       "      <td>3</td>\n",
       "      <td>0</td>\n",
       "      <td>16.586483</td>\n",
       "      <td>17.434139</td>\n",
       "      <td>17.016261</td>\n",
       "      <td>16.916267</td>\n",
       "      <td>16.770839</td>\n",
       "      <td>21.292067</td>\n",
       "      <td>22.624994</td>\n",
       "      <td>21.542819</td>\n",
       "      <td>22.036933</td>\n",
       "      <td>23.194106</td>\n",
       "    </tr>\n",
       "    <tr>\n",
       "      <th>97</th>\n",
       "      <td>2018-02-01</td>\n",
       "      <td>00:22:30</td>\n",
       "      <td>13.375950</td>\n",
       "      <td>0</td>\n",
       "      <td>3</td>\n",
       "      <td>1</td>\n",
       "      <td>15.008750</td>\n",
       "      <td>16.586483</td>\n",
       "      <td>17.434139</td>\n",
       "      <td>17.016261</td>\n",
       "      <td>16.916267</td>\n",
       "      <td>16.770839</td>\n",
       "      <td>21.292067</td>\n",
       "      <td>22.624994</td>\n",
       "      <td>21.542819</td>\n",
       "      <td>22.036933</td>\n",
       "    </tr>\n",
       "    <tr>\n",
       "      <th>98</th>\n",
       "      <td>2018-02-01</td>\n",
       "      <td>00:37:30</td>\n",
       "      <td>12.083542</td>\n",
       "      <td>0</td>\n",
       "      <td>3</td>\n",
       "      <td>2</td>\n",
       "      <td>13.375950</td>\n",
       "      <td>15.008750</td>\n",
       "      <td>16.586483</td>\n",
       "      <td>17.434139</td>\n",
       "      <td>17.016261</td>\n",
       "      <td>16.916267</td>\n",
       "      <td>16.770839</td>\n",
       "      <td>21.292067</td>\n",
       "      <td>22.624994</td>\n",
       "      <td>21.542819</td>\n",
       "    </tr>\n",
       "    <tr>\n",
       "      <th>99</th>\n",
       "      <td>2018-02-01</td>\n",
       "      <td>00:52:30</td>\n",
       "      <td>12.161200</td>\n",
       "      <td>0</td>\n",
       "      <td>3</td>\n",
       "      <td>3</td>\n",
       "      <td>12.083542</td>\n",
       "      <td>13.375950</td>\n",
       "      <td>15.008750</td>\n",
       "      <td>16.586483</td>\n",
       "      <td>17.434139</td>\n",
       "      <td>17.016261</td>\n",
       "      <td>16.916267</td>\n",
       "      <td>16.770839</td>\n",
       "      <td>21.292067</td>\n",
       "      <td>22.624994</td>\n",
       "    </tr>\n",
       "    <tr>\n",
       "      <th>100</th>\n",
       "      <td>2018-02-01</td>\n",
       "      <td>01:07:30</td>\n",
       "      <td>25.701713</td>\n",
       "      <td>0</td>\n",
       "      <td>3</td>\n",
       "      <td>4</td>\n",
       "      <td>12.161200</td>\n",
       "      <td>12.083542</td>\n",
       "      <td>13.375950</td>\n",
       "      <td>15.008750</td>\n",
       "      <td>16.586483</td>\n",
       "      <td>17.434139</td>\n",
       "      <td>17.016261</td>\n",
       "      <td>16.916267</td>\n",
       "      <td>16.770839</td>\n",
       "      <td>21.292067</td>\n",
       "    </tr>\n",
       "    <tr>\n",
       "      <th>...</th>\n",
       "      <td>...</td>\n",
       "      <td>...</td>\n",
       "      <td>...</td>\n",
       "      <td>...</td>\n",
       "      <td>...</td>\n",
       "      <td>...</td>\n",
       "      <td>...</td>\n",
       "      <td>...</td>\n",
       "      <td>...</td>\n",
       "      <td>...</td>\n",
       "      <td>...</td>\n",
       "      <td>...</td>\n",
       "      <td>...</td>\n",
       "      <td>...</td>\n",
       "      <td>...</td>\n",
       "      <td>...</td>\n",
       "    </tr>\n",
       "    <tr>\n",
       "      <th>32251</th>\n",
       "      <td>2018-02-12</td>\n",
       "      <td>22:52:30</td>\n",
       "      <td>22.724222</td>\n",
       "      <td>0</td>\n",
       "      <td>0</td>\n",
       "      <td>91</td>\n",
       "      <td>23.162828</td>\n",
       "      <td>23.313772</td>\n",
       "      <td>22.032644</td>\n",
       "      <td>24.859133</td>\n",
       "      <td>25.712639</td>\n",
       "      <td>27.261311</td>\n",
       "      <td>29.807828</td>\n",
       "      <td>29.413200</td>\n",
       "      <td>31.220794</td>\n",
       "      <td>32.902628</td>\n",
       "    </tr>\n",
       "    <tr>\n",
       "      <th>32252</th>\n",
       "      <td>2018-02-12</td>\n",
       "      <td>23:07:30</td>\n",
       "      <td>18.846494</td>\n",
       "      <td>0</td>\n",
       "      <td>0</td>\n",
       "      <td>92</td>\n",
       "      <td>22.724222</td>\n",
       "      <td>23.162828</td>\n",
       "      <td>23.313772</td>\n",
       "      <td>22.032644</td>\n",
       "      <td>24.859133</td>\n",
       "      <td>25.712639</td>\n",
       "      <td>27.261311</td>\n",
       "      <td>29.807828</td>\n",
       "      <td>29.413200</td>\n",
       "      <td>31.220794</td>\n",
       "    </tr>\n",
       "    <tr>\n",
       "      <th>32253</th>\n",
       "      <td>2018-02-12</td>\n",
       "      <td>23:22:30</td>\n",
       "      <td>16.409161</td>\n",
       "      <td>0</td>\n",
       "      <td>0</td>\n",
       "      <td>93</td>\n",
       "      <td>18.846494</td>\n",
       "      <td>22.724222</td>\n",
       "      <td>23.162828</td>\n",
       "      <td>23.313772</td>\n",
       "      <td>22.032644</td>\n",
       "      <td>24.859133</td>\n",
       "      <td>25.712639</td>\n",
       "      <td>27.261311</td>\n",
       "      <td>29.807828</td>\n",
       "      <td>29.413200</td>\n",
       "    </tr>\n",
       "    <tr>\n",
       "      <th>32254</th>\n",
       "      <td>2018-02-12</td>\n",
       "      <td>23:37:30</td>\n",
       "      <td>17.070800</td>\n",
       "      <td>0</td>\n",
       "      <td>0</td>\n",
       "      <td>94</td>\n",
       "      <td>16.409161</td>\n",
       "      <td>18.846494</td>\n",
       "      <td>22.724222</td>\n",
       "      <td>23.162828</td>\n",
       "      <td>23.313772</td>\n",
       "      <td>22.032644</td>\n",
       "      <td>24.859133</td>\n",
       "      <td>25.712639</td>\n",
       "      <td>27.261311</td>\n",
       "      <td>29.807828</td>\n",
       "    </tr>\n",
       "    <tr>\n",
       "      <th>32255</th>\n",
       "      <td>2018-02-12</td>\n",
       "      <td>23:52:30</td>\n",
       "      <td>19.187161</td>\n",
       "      <td>0</td>\n",
       "      <td>0</td>\n",
       "      <td>95</td>\n",
       "      <td>17.070800</td>\n",
       "      <td>16.409161</td>\n",
       "      <td>18.846494</td>\n",
       "      <td>22.724222</td>\n",
       "      <td>23.162828</td>\n",
       "      <td>23.313772</td>\n",
       "      <td>22.032644</td>\n",
       "      <td>24.859133</td>\n",
       "      <td>25.712639</td>\n",
       "      <td>27.261311</td>\n",
       "    </tr>\n",
       "  </tbody>\n",
       "</table>\n",
       "<p>2688 rows × 16 columns</p>\n",
       "</div>"
      ],
      "text/plain": [
       "            date      time       flow  anomaly  time_ind  dayofweek  \\\n",
       "96    2018-02-01  00:07:30  15.008750        0         3          0   \n",
       "97    2018-02-01  00:22:30  13.375950        0         3          1   \n",
       "98    2018-02-01  00:37:30  12.083542        0         3          2   \n",
       "99    2018-02-01  00:52:30  12.161200        0         3          3   \n",
       "100   2018-02-01  01:07:30  25.701713        0         3          4   \n",
       "...          ...       ...        ...      ...       ...        ...   \n",
       "32251 2018-02-12  22:52:30  22.724222        0         0         91   \n",
       "32252 2018-02-12  23:07:30  18.846494        0         0         92   \n",
       "32253 2018-02-12  23:22:30  16.409161        0         0         93   \n",
       "32254 2018-02-12  23:37:30  17.070800        0         0         94   \n",
       "32255 2018-02-12  23:52:30  19.187161        0         0         95   \n",
       "\n",
       "             n-1        n-2        n-3        n-4        n-5        n-6  \\\n",
       "96     16.586483  17.434139  17.016261  16.916267  16.770839  21.292067   \n",
       "97     15.008750  16.586483  17.434139  17.016261  16.916267  16.770839   \n",
       "98     13.375950  15.008750  16.586483  17.434139  17.016261  16.916267   \n",
       "99     12.083542  13.375950  15.008750  16.586483  17.434139  17.016261   \n",
       "100    12.161200  12.083542  13.375950  15.008750  16.586483  17.434139   \n",
       "...          ...        ...        ...        ...        ...        ...   \n",
       "32251  23.162828  23.313772  22.032644  24.859133  25.712639  27.261311   \n",
       "32252  22.724222  23.162828  23.313772  22.032644  24.859133  25.712639   \n",
       "32253  18.846494  22.724222  23.162828  23.313772  22.032644  24.859133   \n",
       "32254  16.409161  18.846494  22.724222  23.162828  23.313772  22.032644   \n",
       "32255  17.070800  16.409161  18.846494  22.724222  23.162828  23.313772   \n",
       "\n",
       "             n-7        n-8        n-9       n-10  \n",
       "96     22.624994  21.542819  22.036933  23.194106  \n",
       "97     21.292067  22.624994  21.542819  22.036933  \n",
       "98     16.770839  21.292067  22.624994  21.542819  \n",
       "99     16.916267  16.770839  21.292067  22.624994  \n",
       "100    17.016261  16.916267  16.770839  21.292067  \n",
       "...          ...        ...        ...        ...  \n",
       "32251  29.807828  29.413200  31.220794  32.902628  \n",
       "32252  27.261311  29.807828  29.413200  31.220794  \n",
       "32253  25.712639  27.261311  29.807828  29.413200  \n",
       "32254  24.859133  25.712639  27.261311  29.807828  \n",
       "32255  22.032644  24.859133  25.712639  27.261311  \n",
       "\n",
       "[2688 rows x 16 columns]"
      ]
     },
     "execution_count": 29,
     "metadata": {},
     "output_type": "execute_result"
    }
   ],
   "source": [
    "df2predict"
   ]
  },
  {
   "cell_type": "code",
   "execution_count": 25,
   "metadata": {},
   "outputs": [],
   "source": [
    "y_true=df2predict['flow']\n",
    "y_pred=predict_flow(df2predict)"
   ]
  },
  {
   "cell_type": "code",
   "execution_count": 26,
   "metadata": {},
   "outputs": [],
   "source": [
    "# to choose what we want to forecast (number of days)\n",
    "def predict_days(y_true, y_pred, day):\n",
    "    yTrue=[]\n",
    "    yPred=[]\n",
    "    if day==1:\n",
    "        yTrue=y_true[0:periods_per_day] # to look at 1 day\n",
    "        yPred=y_pred[0:periods_per_day]\n",
    "    else:\n",
    "        yTrue=y_true[0:periods_per_day*day]\n",
    "        yPred=y_pred[0:periods_per_day*day]\n",
    "    \n",
    "    x = np.linspace(0,len(yPred),len(yPred)) \n",
    "    plt.plot(x, yTrue, label='predicted with SVR')\n",
    "    plt.plot(x, yPred, label='real value')\n",
    "    plt.xlabel('time (in periods of 15 min)')\n",
    "    plt.ylabel('water flow')\n",
    "    plt.title(\"Comparing real and predicted values for 1 day (2018-02-01)\")\n",
    "    plt.legend()\n",
    "    plt.show()\n",
    "    \n",
    "    # evaluation metrics\n",
    "    error = mean_squared_error(yTrue, yPred)\n",
    "    result= print('RBF model Test MSE: %.3f' % error)\n",
    "    \n",
    "    return result"
   ]
  },
  {
   "cell_type": "code",
   "execution_count": 27,
   "metadata": {},
   "outputs": [
    {
     "data": {
      "image/png": "[encoded data removed]",
      "text/plain": [
       "<Figure size 432x288 with 1 Axes>"
      ]
     },
     "metadata": {
      "needs_background": "light"
     },
     "output_type": "display_data"
    },
    {
     "name": "stdout",
     "output_type": "stream",
     "text": [
      "RBF model Test MSE: 30.397\n"
     ]
    }
   ],
   "source": [
    "# just to test\n",
    "predict_1d=predict_days(y_true, y_pred, 1)"
   ]
  },
  {
   "cell_type": "code",
   "execution_count": 28,
   "metadata": {},
   "outputs": [
    {
     "data": {
      "image/png": "[encoded data removed]",
      "text/plain": [
       "<Figure size 432x288 with 1 Axes>"
      ]
     },
     "metadata": {
      "needs_background": "light"
     },
     "output_type": "display_data"
    },
    {
     "name": "stdout",
     "output_type": "stream",
     "text": [
      "RBF model Test MSE: 44.463\n"
     ]
    }
   ],
   "source": [
    "predict_7d=predict_days(y_true, y_pred, 7)"
   ]
  },
  {
   "cell_type": "markdown",
   "metadata": {},
   "source": [
    "## Evaluation metrics"
   ]
  },
  {
   "cell_type": "code",
   "execution_count": null,
   "metadata": {},
   "outputs": [],
   "source": [
    "# Mean squared error function loss\n",
    "# The mean_squared_error function computes mean square error, a risk metric corresponding to the expected value of the squared (quadratic) error or loss\n",
    "# error = mean_squared_error(y_test, y_pred)\n",
    "# print('RBF model Test MSE: %.3f' % error)"
   ]
  },
  {
   "cell_type": "markdown",
   "metadata": {},
   "source": [
    "## Anomaly detection"
   ]
  },
  {
   "cell_type": "code",
   "execution_count": 29,
   "metadata": {},
   "outputs": [],
   "source": [
    "# example\n",
    "y_true=y_true[0:periods_per_day] \n",
    "y_pred=y_pred[0:periods_per_day]"
   ]
  },
  {
   "cell_type": "code",
   "execution_count": null,
   "metadata": {},
   "outputs": [],
   "source": [
    "\"\"\"\n",
    "a surprise occurs when the difference between the observed and predicted value is more than a given number - tolerance or threshold\n",
    "\"\"\"\n",
    "def surprise(y_pred, y_true, std_weekdays):\n",
    "    # to create the suprise column in df\n",
    "    df[surprise]= \"\"\n",
    "    # difference between SVR model prediction and actual values\n",
    "    difference= y_pred - y_true\n",
    "    difference=abs(difference)\n",
    "    # quantile\n",
    "    thresh= 5*std_weekdays\n",
    "    \n",
    "    for i in range(y_pred):\n",
    "        for j in range(y_true):\n",
    "            if difference>thresh:\n",
    "            # if it's a surprise = -1\n",
    "            df.loc[df[j].isin(y_true[j]), 'surprise'] = -1\n",
    "#    return "
   ]
  },
  {
   "cell_type": "markdown",
   "metadata": {},
   "source": [
    "### Sliding window"
   ]
  },
  {
   "cell_type": "code",
   "execution_count": null,
   "metadata": {},
   "outputs": [],
   "source": [
    "def window(df, n):\n",
    "  \n",
    "    # h - fixed lower bound of number of surprises\n",
    "    k = len(df)\n",
    "    \n",
    "    # compute sum of first window of sike k\n",
    "    window_sum = sum(df[:n])\n",
    "    \n",
    "    # first sum available\n",
    "    max_sum = window\n",
    "    \n",
    "    # Compute the sums of remaining windows by\n",
    "    # removing first element of previous\n",
    "    # window and adding last element of\n",
    "    # the current window.\n",
    "    for i in range(k - n):\n",
    "        window_sum = window_sum - df[i] + df[i + n]\n",
    "        max_sum = max(window_sum, max_sum)\n",
    "        \n",
    "    return max_sum"
   ]
  },
  {
   "cell_type": "code",
   "execution_count": null,
   "metadata": {},
   "outputs": [],
   "source": [
    "test=window(df2predict, 8)"
   ]
  }
 ],
 "metadata": {
  "kernelspec": {
   "display_name": "Python 3",
   "language": "python",
   "name": "python3"
  },
  "language_info": {
   "codemirror_mode": {
    "name": "ipython",
    "version": 3
   },
   "file_extension": ".py",
   "mimetype": "text/x-python",
   "name": "python",
   "nbconvert_exporter": "python",
   "pygments_lexer": "ipython3",
   "version": "3.8.5"
  }
 },
 "nbformat": 4,
 "nbformat_minor": 4
}
