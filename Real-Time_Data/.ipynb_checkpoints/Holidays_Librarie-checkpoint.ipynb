{
 "cells": [
  {
   "cell_type": "code",
   "execution_count": 1,
   "metadata": {},
   "outputs": [
    {
     "name": "stdout",
     "output_type": "stream",
     "text": [
      "Requirement already satisfied: holidays in c:\\users\\201800123\\anaconda3\\lib\\site-packages (0.11.1)\n",
      "Requirement already satisfied: korean-lunar-calendar in c:\\users\\201800123\\anaconda3\\lib\\site-packages (from holidays) (0.2.1)\n",
      "Requirement already satisfied: python-dateutil in c:\\users\\201800123\\anaconda3\\lib\\site-packages (from holidays) (2.8.1)\n",
      "Requirement already satisfied: six in c:\\users\\201800123\\anaconda3\\lib\\site-packages (from holidays) (1.15.0)\n",
      "Requirement already satisfied: hijri-converter in c:\\users\\201800123\\anaconda3\\lib\\site-packages (from holidays) (2.1.3)\n",
      "Requirement already satisfied: convertdate>=2.3.0 in c:\\users\\201800123\\anaconda3\\lib\\site-packages (from holidays) (2.3.2)\n",
      "Requirement already satisfied: pymeeus<=1,>=0.3.13 in c:\\users\\201800123\\anaconda3\\lib\\site-packages (from convertdate>=2.3.0->holidays) (0.5.11)\n",
      "Requirement already satisfied: pytz>=2014.10 in c:\\users\\201800123\\anaconda3\\lib\\site-packages (from convertdate>=2.3.0->holidays) (2020.1)\n",
      "Note: you may need to restart the kernel to use updated packages.\n"
     ]
    }
   ],
   "source": [
    "pip install holidays"
   ]
  },
  {
   "cell_type": "code",
   "execution_count": 2,
   "metadata": {},
   "outputs": [],
   "source": [
    "import datetime\n",
    "import holidays"
   ]
  },
  {
   "cell_type": "code",
   "execution_count": null,
   "metadata": {},
   "outputs": [],
   "source": [
    "for years in range (1970, 2030):\n",
    "    for holiday in holidays.Portugal(years=years).items():\n",
    "        print((holiday[0]))"
   ]
  },
  {
   "cell_type": "code",
   "execution_count": null,
   "metadata": {},
   "outputs": [],
   "source": [
    "holidays=[]\n",
    "\n",
    "for years in range (1970, 2030):\n",
    "    for holiday in holidays.Portugal(years=years).items():\n",
    "        holidays.append(holiday[0])"
   ]
  },
  {
   "cell_type": "code",
   "execution_count": null,
   "metadata": {},
   "outputs": [],
   "source": [
    "pt_holidays = holidays.Portugal('PT')"
   ]
  },
  {
   "cell_type": "code",
   "execution_count": null,
   "metadata": {},
   "outputs": [],
   "source": [
    "from datetime import date\n",
    "import holidays\n",
    "date(2014, 1, 1) in holidays.US()\n",
    "date(2014, 1, 2) in holidays.US()"
   ]
  },
  {
   "cell_type": "code",
   "execution_count": null,
   "metadata": {},
   "outputs": [],
   "source": [
    "# But this is not efficient because it is initializing a new Holiday object\n",
    "# and generating a list of all the holidays in 2014 during each comparison\n",
    "\n",
    "# It is more efficient to create the object only once\n",
    "\n",
    "us_holidays = holidays.Portugal()\n",
    "date(2014, 1, 1) in us_holidays"
   ]
  },
  {
   "cell_type": "code",
   "execution_count": null,
   "metadata": {},
   "outputs": [],
   "source": [
    "us_holidays = holidays.Portugal()"
   ]
  },
  {
   "cell_type": "code",
   "execution_count": null,
   "metadata": {},
   "outputs": [],
   "source": [
    "holidays=[]\n",
    "\n",
    "for years in range (1970, 2030):\n",
    "    for holiday in us_holidays.items():\n",
    "        holidays.append(holiday)"
   ]
  },
  {
   "cell_type": "code",
   "execution_count": null,
   "metadata": {},
   "outputs": [],
   "source": [
    "holidays"
   ]
  }
 ],
 "metadata": {
  "kernelspec": {
   "display_name": "Python 3",
   "language": "python",
   "name": "python3"
  },
  "language_info": {
   "codemirror_mode": {
    "name": "ipython",
    "version": 3
   },
   "file_extension": ".py",
   "mimetype": "text/x-python",
   "name": "python",
   "nbconvert_exporter": "python",
   "pygments_lexer": "ipython3",
   "version": "3.8.5"
  }
 },
 "nbformat": 4,
 "nbformat_minor": 4
}
